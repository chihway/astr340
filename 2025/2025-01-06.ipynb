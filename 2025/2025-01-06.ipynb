{
 "cells": [
  {
   "cell_type": "markdown",
   "id": "09c93c66",
   "metadata": {},
   "source": [
    "# In-class notebook: 2025-01-06\n",
    "\n",
    "In this notebook, we will get familiar with the basics function related to downloading SDSS data using astroML, some basic plotting techniques. We will then switch gear to talk a little about common speed-up strategies in sorting and searching.\n",
    "\n",
    "This notebook is intended to support Chapter 1-2 of the textbook, and material is taken from the following scripts (from astroML):\n",
    "* https://github.com/astroML/astroML_figures/blob/main/book_figures/chapter1/fig_SDSS_imaging.py\n",
    "* https://github.com/astroML/astroML_figures/blob/main/book_figures/chapter1/fig_sdss_S82standards.py\n",
    "* https://github.com/astroML/astroML_figures/blob/main/book_figures/chapter1/fig_S82_scatter_contour.py\n",
    "* https://github.com/astroML/astroML_figures/blob/main/book_figures/chapter1/fig_S82_hess.py\n",
    "* https://github.com/astroML/astroML_figures/blob/main/book_figures/chapter1/fig_sdss_spectrum.py\n",
    "* https://github.com/astroML/astroML_figures/blob/main/book_figures/chapter2/fig_search_scaling.py\n",
    "* https://github.com/astroML/astroML_figures/blob/main/book_figures/chapter2/fig_sort_scaling.py\n",
    "* https://github.com/astroML/astroML_figures/blob/main/book_figures/chapter2/fig_kdtree_example.py"
   ]
  },
  {
   "cell_type": "code",
   "execution_count": null,
   "id": "b68ec652",
   "metadata": {},
   "outputs": [],
   "source": [
    "# import basic stuff\n",
    "import numpy as np\n",
    "from matplotlib import pyplot as plt"
   ]
  },
  {
   "cell_type": "markdown",
   "id": "5c7874a7",
   "metadata": {},
   "source": [
    "## Download the SDSS imaging data and make some plots"
   ]
  },
  {
   "cell_type": "code",
   "execution_count": null,
   "id": "1f9c23d2",
   "metadata": {},
   "outputs": [],
   "source": [
    "from astroML.datasets import fetch_imaging_sample\n",
    "\n",
    "Nstars = 5000\n",
    "Ngals = 5000\n",
    "\n",
    "data = fetch_imaging_sample()\n",
    "# fetch imaging data catalog (see https://github.com/astroML/astroML/blob/main/astroML/datasets/imaging_sample.py)\n",
    "# you can learn more about SQL queries in the book's appendix\n",
    "# check where the files were downloaded? \n",
    "\n",
    "print('total object counts', len(data))\n",
    "\n",
    "# object type 6 is stars and 3 is galaxies\n",
    "objtype = data['type']\n",
    "stars = data[objtype == 6][:Nstars]\n",
    "galaxies = data[objtype == 3][:Ngals]"
   ]
  },
  {
   "cell_type": "code",
   "execution_count": null,
   "id": "f3b96650",
   "metadata": {},
   "outputs": [],
   "source": [
    "# print the column names for both stars and galaxies\n",
    "print(stars.dtype.names)"
   ]
  },
  {
   "cell_type": "markdown",
   "id": "f5f0573e",
   "metadata": {},
   "source": [
    "### Any idea what these columns are? \n",
    "\n",
    "You can read the schema to find out what is what - https://skyserver.sdss.org/dr7/en/help/browser/browser.asp"
   ]
  },
  {
   "cell_type": "markdown",
   "id": "9e9fe27d",
   "metadata": {},
   "source": [
    "### Now plot"
   ]
  },
  {
   "cell_type": "code",
   "execution_count": null,
   "id": "84a38752",
   "metadata": {},
   "outputs": [],
   "source": [
    "plot_kwargs = dict(color='k', linestyle='none', marker=',')\n",
    "\n",
    "fig = plt.figure(figsize=(5, 3.75))\n",
    "\n",
    "ax1 = fig.add_subplot(221)\n",
    "ax1.plot(galaxies['gRaw'] - galaxies['rRaw'],\n",
    "         galaxies['rRaw'],\n",
    "         **plot_kwargs)\n",
    "\n",
    "ax2 = fig.add_subplot(223, sharex=ax1)\n",
    "ax2.plot(galaxies['gRaw'] - galaxies['rRaw'],\n",
    "         galaxies['rRaw'] - galaxies['iRaw'],\n",
    "         **plot_kwargs)\n",
    "\n",
    "ax3 = fig.add_subplot(222, sharey=ax1)\n",
    "ax3.plot(stars['gRaw'] - stars['rRaw'],\n",
    "         stars['rRaw'],\n",
    "         **plot_kwargs)\n",
    "\n",
    "ax4 = fig.add_subplot(224, sharex=ax3, sharey=ax2)\n",
    "ax4.plot(stars['gRaw'] - stars['rRaw'],\n",
    "         stars['rRaw'] - stars['iRaw'],\n",
    "         **plot_kwargs)\n",
    "\n",
    "# set labels and titles\n",
    "ax1.set_ylabel(r'${\\rm r}$')\n",
    "ax2.set_ylabel(r'${\\rm r - i}$')\n",
    "ax2.set_xlabel(r'${\\rm g - r}$')\n",
    "ax4.set_xlabel(r'${\\rm g - r}$')\n",
    "ax1.set_title('Galaxies')\n",
    "ax3.set_title('Stars')\n",
    "\n",
    "# set axis limits\n",
    "ax2.set_xlim(-1, 3)\n",
    "ax3.set_ylim(23.0, 14)\n",
    "ax4.set_xlim(-1, 3)\n",
    "ax4.set_ylim(-1, 2)\n",
    "\n",
    "fig.tight_layout()\n"
   ]
  },
  {
   "cell_type": "markdown",
   "id": "c3883b15",
   "metadata": {},
   "source": [
    "## Download a set of SDSS standard stars and plot its color-color diagram"
   ]
  },
  {
   "cell_type": "code",
   "execution_count": null,
   "id": "26c84534",
   "metadata": {},
   "outputs": [],
   "source": [
    "from astroML.datasets import fetch_sdss_S82standards\n",
    "\n",
    "# Fetch the stripe 82 data (see https://github.com/astroML/astroML/blob/main/astroML/datasets/sdss_S82standards.py)\n",
    "data = fetch_sdss_S82standards()\n",
    "\n",
    "# select the first 10000 points\n",
    "data = data[:10000]"
   ]
  },
  {
   "cell_type": "code",
   "execution_count": null,
   "id": "88e52c3e",
   "metadata": {},
   "outputs": [],
   "source": [
    "print(data.dtype.names)"
   ]
  },
  {
   "cell_type": "code",
   "execution_count": null,
   "id": "b7c01270",
   "metadata": {},
   "outputs": [],
   "source": [
    "# select the mean magnitudes for g, r, i\n",
    "g = data['mmu_g']\n",
    "r = data['mmu_r']\n",
    "i = data['mmu_i']"
   ]
  },
  {
   "cell_type": "markdown",
   "id": "a2e799d5",
   "metadata": {},
   "source": [
    "### Plot"
   ]
  },
  {
   "cell_type": "code",
   "execution_count": null,
   "id": "4891281b",
   "metadata": {},
   "outputs": [],
   "source": [
    "# Plot the g-r vs r-i colors\n",
    "fig, ax = plt.subplots(figsize=(5, 3.75))\n",
    "ax.plot(g - r, r - i, marker='.', markersize=2,\n",
    "        color='black', linestyle='none')\n",
    "\n",
    "ax.set_xlim(-0.6, 2.0)\n",
    "ax.set_ylim(-0.6, 2.5)\n",
    "\n",
    "ax.set_xlabel(r'${\\rm g - r}$')\n",
    "ax.set_ylabel(r'${\\rm r - i}$')"
   ]
  },
  {
   "cell_type": "markdown",
   "id": "76a20595",
   "metadata": {},
   "source": [
    "### We can plot it differently, with more points: contours and Hess"
   ]
  },
  {
   "cell_type": "code",
   "execution_count": null,
   "id": "a3290319",
   "metadata": {},
   "outputs": [],
   "source": [
    "# Fetch the stripe 82 data (see https://github.com/astroML/astroML/blob/main/astroML/datasets/sdss_S82standards.py)\n",
    "data = fetch_sdss_S82standards()\n",
    "\n",
    "# select the mean magnitudes for g, r, i\n",
    "g = data['mmu_g']\n",
    "r = data['mmu_r']\n",
    "i = data['mmu_i']"
   ]
  },
  {
   "cell_type": "code",
   "execution_count": null,
   "id": "3fc5f2ad",
   "metadata": {},
   "outputs": [],
   "source": [
    "from astroML.plotting import scatter_contour\n",
    "\n",
    "fig, ax = plt.subplots(figsize=(5, 3.75))\n",
    "scatter_contour(g - r, r - i, threshold=200, log_counts=True, ax=ax,\n",
    "                histogram2d_args=dict(bins=40),\n",
    "                plot_args=dict(marker=',', linestyle='none', color='black'),\n",
    "                contour_args=dict(cmap=plt.cm.bone))\n",
    "\n",
    "ax.set_xlabel(r'${\\rm g - r}$')\n",
    "ax.set_ylabel(r'${\\rm r - i}$')\n",
    "\n",
    "ax.set_xlim(-0.6, 2.5)\n",
    "ax.set_ylim(-0.6, 2.5)\n"
   ]
  },
  {
   "cell_type": "code",
   "execution_count": null,
   "id": "f754608e-8aa3-4500-8783-9ac73783388d",
   "metadata": {},
   "outputs": [],
   "source": [
    "import copy\n",
    "\n",
    "# Compute and plot the 2D histogram\n",
    "H, xbins, ybins = np.histogram2d(g - r, r - i,\n",
    "                                 bins=(np.linspace(-0.5, 2.5, 50),\n",
    "                                       np.linspace(-0.5, 2.5, 50)))\n",
    "\n",
    "# Use the image display function imshow() to plot the result\n",
    "fig, ax = plt.subplots(figsize=(5, 3.75))\n",
    "H[H == 0] = 1  # prevent warnings in log10\n",
    "\n",
    "ax.imshow(np.log10(H).T, origin='lower',\n",
    "          extent=[xbins[0], xbins[-1], ybins[0], ybins[-1]],\n",
    "          cmap='binary', interpolation='nearest',\n",
    "          aspect='auto')\n",
    "\n",
    "ax.set_xlabel(r'${\\rm g - r}$')\n",
    "ax.set_ylabel(r'${\\rm r - i}$')\n",
    "\n",
    "ax.set_xlim(-0.6, 2.5)\n",
    "ax.set_ylim(-0.6, 2.5)"
   ]
  },
  {
   "cell_type": "markdown",
   "id": "4acc6203",
   "metadata": {},
   "source": [
    "## We can also download SDSS spectra and plot them"
   ]
  },
  {
   "cell_type": "code",
   "execution_count": null,
   "id": "715d8d87",
   "metadata": {},
   "outputs": [],
   "source": [
    "from astroML.datasets import fetch_sdss_spectrum\n",
    "\n",
    "# Fetch single spectrum, you can find these unique identifiers using \n",
    "# e.g. fetch_sdss_specgals https://github.com/astroML/astroML/blob/main/astroML/datasets/sdss_specgals.py\n",
    "plate = 1615\n",
    "mjd = 53166\n",
    "fiber = 513\n",
    "\n",
    "spec = fetch_sdss_spectrum(plate, mjd, fiber)\n",
    "\n",
    "#------------------------------------------------------------\n",
    "# Plot the resulting spectrum\n",
    "fig, ax = plt.subplots(figsize=(5, 3.75))\n",
    "ax.plot(spec.wavelength(), spec.spectrum, '-k', lw=1)\n",
    "\n",
    "ax.set_xlim(3000, 10000)\n",
    "ax.set_ylim(25, 300)\n",
    "\n",
    "ax.set_xlabel(r'$\\lambda {(\\rm \\AA)}$')\n",
    "ax.set_ylabel('Flux')\n",
    "ax.set_title('Plate = %(plate)i, MJD = %(mjd)i, Fiber = %(fiber)i' % locals())"
   ]
  },
  {
   "cell_type": "code",
   "execution_count": null,
   "id": "9ec11eee",
   "metadata": {},
   "outputs": [],
   "source": []
  },
  {
   "cell_type": "code",
   "execution_count": null,
   "id": "6bae0590",
   "metadata": {},
   "outputs": [],
   "source": []
  },
  {
   "cell_type": "markdown",
   "id": "7dbe75d5",
   "metadata": {},
   "source": [
    "## Next we will talk about strategies to speed up some common operations"
   ]
  },
  {
   "cell_type": "markdown",
   "id": "a4964090",
   "metadata": {},
   "source": [
    "### Sorting: numpy quick-sort and python list sort"
   ]
  },
  {
   "cell_type": "code",
   "execution_count": null,
   "id": "35bf73e2",
   "metadata": {},
   "outputs": [],
   "source": [
    "np.random.seed(0)\n",
    "X = np.random.rand(10000000)\n",
    "print(X)"
   ]
  },
  {
   "cell_type": "code",
   "execution_count": null,
   "id": "89863bc9",
   "metadata": {},
   "outputs": [],
   "source": [
    "%time X.sort()"
   ]
  },
  {
   "cell_type": "code",
   "execution_count": null,
   "id": "2eadb414",
   "metadata": {},
   "outputs": [],
   "source": [
    "# note that a pre-sorted array sorts faster!\n",
    "%time X.sort()"
   ]
  },
  {
   "cell_type": "code",
   "execution_count": null,
   "id": "66f3781e",
   "metadata": {},
   "outputs": [],
   "source": [
    "print(X)"
   ]
  },
  {
   "cell_type": "markdown",
   "id": "68377b94",
   "metadata": {},
   "source": [
    "### Compare two types of sorting"
   ]
  },
  {
   "cell_type": "code",
   "execution_count": null,
   "id": "457b0d21",
   "metadata": {},
   "outputs": [],
   "source": [
    "from time import time\n",
    "\n",
    "# time quick-sort of a numpy array\n",
    "N_npy = 10 ** np.linspace(5, 7, 10)\n",
    "time_npy = np.zeros_like(N_npy)\n",
    "\n",
    "for i in range(len(N_npy)):\n",
    "    x = np.random.random(int(N_npy[i]))\n",
    "    t0 = time()\n",
    "    x.sort()\n",
    "    t1 = time()\n",
    "    time_npy[i] = t1 - t0\n",
    "\n",
    "# time built-in sort of python list\n",
    "N_list = N_npy.copy()\n",
    "time_list = np.zeros_like(N_list)\n",
    "\n",
    "for i in range(len(N_list)):\n",
    "    x = list(np.random.random(int(N_list[i])))\n",
    "    t0 = time()\n",
    "    x.sort()\n",
    "    t1 = time()\n",
    "    time_list[i] = t1 - t0\n"
   ]
  },
  {
   "cell_type": "code",
   "execution_count": null,
   "id": "43474e01",
   "metadata": {},
   "outputs": [],
   "source": [
    "fig = plt.figure(figsize=(5, 3.75))\n",
    "fig.subplots_adjust(bottom=0.15)\n",
    "ax = plt.axes(xscale='log', yscale='log')\n",
    "ax.grid()\n",
    "\n",
    "# plot the observed times\n",
    "ax.plot(N_list, time_list, 'sk', color='gray', ms=5, label='list sort')\n",
    "ax.plot(N_npy, time_npy, 'ok', color='gray', ms=5, label='NumPy sort')\n",
    "\n",
    "# plot the expected scalings\n",
    "scale = np.linspace(N_npy[0] / 2, N_npy[-1] * 2, 100)\n",
    "scaling_N = scale * time_npy[0] / N_npy[0]\n",
    "scaling_NlogN = (scale * np.log2(scale) \n",
    "                 * time_npy[0] / N_npy[0] / np.log2(N_npy[0]))\n",
    "\n",
    "ax.plot(scale, scaling_NlogN, '--k', label=r'$\\mathcal{O}[N \\log N]$')\n",
    "ax.plot(scale, scaling_N, ':k', label=r'$\\mathcal{O}[N]$')\n",
    "\n",
    "scaling_N = scale * time_list[0] / N_list[0]\n",
    "scaling_NlogN = (scale * np.log2(scale) * time_list[0]\n",
    "                 / N_list[0] / np.log2(N_list[0]))\n",
    "\n",
    "ax.plot(scale, scaling_NlogN, '--k')\n",
    "ax.plot(scale, scaling_N, ':k')\n",
    "\n",
    "# Create titles and labels\n",
    "ax.set_title(\"Scaling of Sort Algorithms\")\n",
    "ax.set_xlabel('Length of Array')\n",
    "ax.set_ylabel('Relative sort time')\n",
    "plt.legend(loc='upper left')\n",
    "\n",
    "ax.set_xlim(scale[0], scale[-1])"
   ]
  },
  {
   "cell_type": "code",
   "execution_count": null,
   "id": "8dd83d93",
   "metadata": {},
   "outputs": [],
   "source": []
  },
  {
   "cell_type": "markdown",
   "id": "1d78556d",
   "metadata": {},
   "source": [
    "### Searching: linear search and binary search in an ordered list "
   ]
  },
  {
   "cell_type": "code",
   "execution_count": null,
   "id": "bfe12c35",
   "metadata": {},
   "outputs": [],
   "source": [
    "# Compute the execution times as a function of array size\n",
    "Nsamples = 10 ** np.linspace(6.0, 7.8, 17)\n",
    "time_linear = np.zeros_like(Nsamples)\n",
    "time_binary = np.zeros_like(Nsamples)\n",
    "\n",
    "for i in range(len(Nsamples)):\n",
    "    # create a sorted array\n",
    "    x = np.arange(Nsamples[i], dtype=int)\n",
    "\n",
    "    # Linear search: choose a single item in the array\n",
    "    item = int(0.4 * Nsamples[i])\n",
    "\n",
    "    t0 = time()\n",
    "    j = np.where(x == item)\n",
    "    t1 = time()\n",
    "\n",
    "    time_linear[i] = t1 - t0\n",
    "\n",
    "    # Binary search: this is much faster, so choose 1000 items to search for\n",
    "    items = np.linspace(0, Nsamples[i], 1000).astype(int)\n",
    "\n",
    "    t0 = time()\n",
    "    j = np.searchsorted(x, items)\n",
    "    t1 = time()\n",
    "\n",
    "    time_binary[i] = (t1 - t0)"
   ]
  },
  {
   "cell_type": "code",
   "execution_count": null,
   "id": "63a25d82",
   "metadata": {},
   "outputs": [],
   "source": [
    "fig = plt.figure(figsize=(5, 3.75))\n",
    "fig.subplots_adjust(bottom=0.15)\n",
    "ax = plt.axes(xscale='log', yscale='log')\n",
    "ax.grid()\n",
    "\n",
    "# plot the observed times\n",
    "ax.plot(Nsamples, time_linear, 'o', color='gray', markersize=5,\n",
    "        label=r'linear search $(\\mathcal{O}[N])$')\n",
    "ax.plot(Nsamples, time_binary, 's', color='gray', markersize=5,\n",
    "        label=r'efficient search $(\\mathcal{O}[\\log N])$')\n",
    "\n",
    "# plot the expected scaling\n",
    "scale = 10 ** np.linspace(5, 8, 100)\n",
    "scaling_N = scale * time_linear[7] / Nsamples[7]\n",
    "scaling_logN = np.log(scale) * time_binary[7] / np.log(Nsamples[7])\n",
    "ax.plot(scale, scaling_N, '--k')\n",
    "ax.plot(scale, scaling_logN, '--k')\n",
    "\n",
    "ax.set_xlim(9E5, 1E8)\n",
    "\n",
    "# add text and labels\n",
    "ax.set_title(\"Scaling of Search Algorithms\")\n",
    "ax.set_xlabel('Length of Array')\n",
    "ax.set_ylabel('Relative search time')\n",
    "ax.legend(loc='upper left')"
   ]
  },
  {
   "cell_type": "code",
   "execution_count": null,
   "id": "083ce566",
   "metadata": {},
   "outputs": [],
   "source": []
  },
  {
   "cell_type": "markdown",
   "id": "d3bf26b4",
   "metadata": {},
   "source": [
    "### Searching: nearest-neighbor search\n",
    "\n",
    "We want to find the nearest point in an array X within the array."
   ]
  },
  {
   "cell_type": "code",
   "execution_count": null,
   "id": "88139088",
   "metadata": {},
   "outputs": [],
   "source": [
    "# we look at two strategies\n",
    "\n",
    "def easy_nn(X):\n",
    "    N, D = X.shape\n",
    "    neighbors = np.zeros(N, dtype=int)\n",
    "    for i in range(N):\n",
    "        j_closest = i\n",
    "        d_closest = np.inf # initialize closest distance to infinity\n",
    "        for j in range(N):\n",
    "            if i==j:\n",
    "                continue\n",
    "            d = np.sqrt(np.sum((X[i] - X[j])**2))\n",
    "            if d < d_closest:\n",
    "                j_closest = j \n",
    "                d_closest = d\n",
    "        neighbors[i] = j_closest\n",
    "    return neighbors\n",
    "\n",
    "def vectorized_nn(X):\n",
    "    XXT = np.dot(X, X.T)\n",
    "    Xii = XXT.diagonal()\n",
    "    D = np.sqrt(Xii - 2* XXT + Xii[:, np.newaxis])\n",
    "    return np.argsort(D, axis=1)[:,1] # first element is 0"
   ]
  },
  {
   "cell_type": "code",
   "execution_count": null,
   "id": "56d51bd0",
   "metadata": {},
   "outputs": [],
   "source": [
    "X = np.random.random((10,3))\n",
    "print(X)"
   ]
  },
  {
   "cell_type": "code",
   "execution_count": null,
   "id": "1be114f3",
   "metadata": {},
   "outputs": [],
   "source": [
    "easy_nn(X)"
   ]
  },
  {
   "cell_type": "code",
   "execution_count": null,
   "id": "bfd65606",
   "metadata": {},
   "outputs": [],
   "source": [
    "vectorized_nn(X)"
   ]
  },
  {
   "cell_type": "code",
   "execution_count": null,
   "id": "5416633c",
   "metadata": {},
   "outputs": [],
   "source": [
    "%timeit easy_nn(X)"
   ]
  },
  {
   "cell_type": "code",
   "execution_count": null,
   "id": "1a8d0761",
   "metadata": {},
   "outputs": [],
   "source": [
    "%timeit vectorized_nn(X)"
   ]
  },
  {
   "cell_type": "code",
   "execution_count": null,
   "id": "62a00578",
   "metadata": {},
   "outputs": [],
   "source": [
    "X = np.random.random((1000,3))\n",
    "\n",
    "%timeit easy_nn(X)\n",
    "\n",
    "%timeit vectorized_nn(X)"
   ]
  },
  {
   "cell_type": "code",
   "execution_count": null,
   "id": "e91ef836",
   "metadata": {},
   "outputs": [],
   "source": []
  },
  {
   "cell_type": "markdown",
   "id": "8902f920",
   "metadata": {},
   "source": [
    "### Finally, let's look at the idea of \"trees\"\n",
    "\n",
    "Assume we have a similar problem where we want to look for nearest neighbors in an array X."
   ]
  },
  {
   "cell_type": "code",
   "execution_count": null,
   "id": "caeaa599",
   "metadata": {},
   "outputs": [],
   "source": [
    "X = np.random.random((10,3))\n",
    "print(X)"
   ]
  },
  {
   "cell_type": "code",
   "execution_count": null,
   "id": "004cf1db",
   "metadata": {},
   "outputs": [],
   "source": [
    "from scipy.spatial import cKDTree\n",
    "\n",
    "kdt = cKDTree(X) # build KD tree here"
   ]
  },
  {
   "cell_type": "code",
   "execution_count": null,
   "id": "2c393830",
   "metadata": {},
   "outputs": [],
   "source": [
    "vectorized_nn(X)"
   ]
  },
  {
   "cell_type": "code",
   "execution_count": null,
   "id": "4a0a1240",
   "metadata": {},
   "outputs": [],
   "source": [
    "kdt.query(X, k=2)[1][:,1] # first array is distance, second is index\n",
    "                          # show first and second closest neighbor, \n",
    "                          # where first will just be itself"
   ]
  },
  {
   "cell_type": "code",
   "execution_count": null,
   "id": "a4dd1cca-3ccf-4f8f-9435-cbda6a594849",
   "metadata": {},
   "outputs": [],
   "source": [
    "kdt.query(X, k=2)"
   ]
  },
  {
   "cell_type": "code",
   "execution_count": null,
   "id": "9a4dabe4",
   "metadata": {},
   "outputs": [],
   "source": [
    "%timeit kdt.query(X, k=2)"
   ]
  },
  {
   "cell_type": "markdown",
   "id": "0697834a",
   "metadata": {},
   "source": [
    "### Lets look at what KD trees are actually doing with a 2D example"
   ]
  },
  {
   "cell_type": "code",
   "execution_count": null,
   "id": "01cb5dd2",
   "metadata": {},
   "outputs": [],
   "source": [
    "# Create a set of structured random points in two dimensions\n",
    "np.random.seed(0)\n",
    "\n",
    "X = np.random.random((30, 2)) * 2 - 1\n",
    "X[:, 1] *= 0.1\n",
    "X[:, 1] += X[:, 0] ** 2\n",
    "\n",
    "plt.figure(figsize=(3,3))\n",
    "plt.scatter(X[:,0], X[:,1])\n",
    "plt.xlim(-1.1,1.1)\n",
    "plt.ylim(-0.1,1.1)"
   ]
  },
  {
   "cell_type": "code",
   "execution_count": null,
   "id": "8130a658",
   "metadata": {},
   "outputs": [],
   "source": [
    "# Create a KDTree class which will recursively subdivide the\n",
    "# space into rectangular regions.  Note that this is just an example\n",
    "# and shouldn't be used for real computation; instead use the optimized\n",
    "# code in scipy.spatial.cKDTree or sklearn.neighbors.BallTree\n",
    "\n",
    "class KDTree:\n",
    "    \"\"\"Simple KD tree class\"\"\"\n",
    "\n",
    "    # class initialization function\n",
    "    def __init__(self, data, mins, maxs):\n",
    "        self.data = np.asarray(data)\n",
    "\n",
    "        # data should be two-dimensional\n",
    "        assert self.data.shape[1] == 2\n",
    "\n",
    "        if mins is None:\n",
    "            mins = data.min(0)\n",
    "        if maxs is None:\n",
    "            maxs = data.max(0)\n",
    "\n",
    "        self.mins = np.asarray(mins)\n",
    "        self.maxs = np.asarray(maxs)\n",
    "        self.sizes = self.maxs - self.mins\n",
    "\n",
    "        self.child1 = None\n",
    "        self.child2 = None\n",
    "\n",
    "        if len(data) > 1:\n",
    "            # sort on the dimension with the largest spread (this alternates in this example)\n",
    "            largest_dim = np.argmax(self.sizes)\n",
    "            i_sort = np.argsort(self.data[:, largest_dim])\n",
    "            self.data[:] = self.data[i_sort, :]\n",
    "\n",
    "            # find split point, each time splitting half the objects\n",
    "            N = self.data.shape[0]\n",
    "            half_N = int(N / 2)\n",
    "            split_point = 0.5 * (self.data[half_N, largest_dim]\n",
    "                                 + self.data[half_N - 1, largest_dim])\n",
    "\n",
    "            # create subnodes (form a line in the plane)\n",
    "            mins1 = self.mins.copy()\n",
    "            mins1[largest_dim] = split_point\n",
    "            maxs2 = self.maxs.copy()\n",
    "            maxs2[largest_dim] = split_point\n",
    "\n",
    "            # Recursively build a KD-tree on each sub-node\n",
    "            self.child1 = KDTree(self.data[half_N:], mins1, self.maxs)\n",
    "            self.child2 = KDTree(self.data[:half_N], self.mins, maxs2)\n",
    "\n",
    "    def draw_rectangle(self, ax, depth=None):\n",
    "        \"\"\"Recursively plot a visualization of the KD tree region\"\"\"\n",
    "        if depth == 0:\n",
    "            rect = plt.Rectangle(self.mins, *self.sizes, ec='k', fc='none')\n",
    "            ax.add_patch(rect)\n",
    "\n",
    "        if self.child1 is not None:\n",
    "            if depth is None:\n",
    "                self.child1.draw_rectangle(ax)\n",
    "                self.child2.draw_rectangle(ax)\n",
    "            elif depth > 0:\n",
    "                self.child1.draw_rectangle(ax, depth - 1)\n",
    "                self.child2.draw_rectangle(ax, depth - 1)\n"
   ]
  },
  {
   "cell_type": "code",
   "execution_count": null,
   "id": "4be35452",
   "metadata": {},
   "outputs": [],
   "source": [
    "#------------------------------------------------------------\n",
    "# Use our KD Tree class to recursively divide the space\n",
    "KDT = KDTree(X, [-1.1, -0.1], [1.1, 1.1])\n",
    "\n",
    "#------------------------------------------------------------\n",
    "# Plot four different levels of the KD tree\n",
    "fig = plt.figure(figsize=(5, 5))\n",
    "fig.subplots_adjust(wspace=0.1, hspace=0.15,\n",
    "                    left=0.1, right=0.9,\n",
    "                    bottom=0.05, top=0.9)\n",
    "\n",
    "for level in range(1, 5):\n",
    "    ax = fig.add_subplot(2, 2, level, xticks=[], yticks=[])\n",
    "    ax.scatter(X[:, 0], X[:, 1], s=9)\n",
    "    KDT.draw_rectangle(ax, depth=level - 1)\n",
    "\n",
    "    ax.set_xlim(-1.2, 1.2)\n",
    "    ax.set_ylim(-0.15, 1.15)\n",
    "    ax.set_title('level %i' % level)\n",
    "\n",
    "# suptitle() adds a title to the entire figure\n",
    "fig.suptitle('$k$d-tree Example')"
   ]
  },
  {
   "cell_type": "code",
   "execution_count": null,
   "id": "66797565",
   "metadata": {},
   "outputs": [],
   "source": []
  },
  {
   "cell_type": "code",
   "execution_count": null,
   "id": "0de51da1-017d-4346-8610-e2f8c6cd4e04",
   "metadata": {},
   "outputs": [],
   "source": []
  },
  {
   "cell_type": "code",
   "execution_count": null,
   "id": "b6f5ff2d-e826-4a57-8166-1f0f03ba7d1a",
   "metadata": {},
   "outputs": [],
   "source": []
  }
 ],
 "metadata": {
  "kernelspec": {
   "display_name": "astr340",
   "language": "python",
   "name": "astr340"
  },
  "language_info": {
   "codemirror_mode": {
    "name": "ipython",
    "version": 3
   },
   "file_extension": ".py",
   "mimetype": "text/x-python",
   "name": "python",
   "nbconvert_exporter": "python",
   "pygments_lexer": "ipython3",
   "version": "3.9.21"
  }
 },
 "nbformat": 4,
 "nbformat_minor": 5
}
