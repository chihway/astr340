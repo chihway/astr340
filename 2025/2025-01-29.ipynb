{
 "cells": [
  {
   "cell_type": "markdown",
   "metadata": {},
   "source": [
    "# In-class notebook: 2025-01-29\n",
    "\n",
    "In this notebook, we will use a coin flip example to look at several important concepts of Bayesian statistics. \n",
    "\n",
    "This notebook is intended to support Chapter 5.2-5.4 of the textbook, and material is taken from the following scripts (from astroML):\n",
    "* https://github.com/astroML/astroML_figures/blob/main/book_figures/chapter5/fig_odds_ratio_coin.py\n",
    "\n"
   ]
  },
  {
   "cell_type": "markdown",
   "metadata": {},
   "source": [
    "## Odds ratio\n",
    "\n",
    "Odds ratio for two models, $O_{21}$, describing coin tosses. We toss the coin N times and find k tosses are heads.\n",
    "* Model 1: we a priori known heads probability equal to $b_*$\n",
    "* Model 2: the probability of heads is unknown, with uniform prior 0-1\n",
    "\n",
    "We look at two values of $b_*$. "
   ]
  },
  {
   "cell_type": "code",
   "execution_count": null,
   "metadata": {},
   "outputs": [],
   "source": [
    "%matplotlib inline\n",
    "\n",
    "import numpy as np\n",
    "from matplotlib import pyplot as plt\n",
    "from scipy import integrate"
   ]
  },
  {
   "cell_type": "markdown",
   "metadata": {},
   "source": [
    "Write down the Bayesian odds ratio as a function of $N$, $k$ and $b_{*}$."
   ]
  },
  {
   "cell_type": "code",
   "execution_count": null,
   "metadata": {},
   "outputs": [],
   "source": [
    "# check out how to vectorize a function here: \n",
    "# https://www.programiz.com/python-programming/numpy/vectorization\n",
    "# https://numpy.org/doc/stable/reference/generated/numpy.vectorize.html\n",
    "\n",
    "@np.vectorize\n",
    "def odds_ratio(n, k, bstar):\n",
    "    \"\"\"Odds ratio between M_2, where the heads probability is unknown,\n",
    "    and M_1, where the heads probability is known to be `bstar`, evaluated\n",
    "    in the case of `k` heads observed in `n` tosses.\n",
    "\n",
    "    Eqn. 5.25 in the text\n",
    "    \"\"\"\n",
    "    factor = 1. / (bstar ** k * (1 - bstar) ** (n - k))\n",
    "    f = lambda b: b ** k * (1 - b) ** (n - k)\n",
    "\n",
    "    return factor * integrate.quad(f, 0, 1)[0]"
   ]
  },
  {
   "cell_type": "code",
   "execution_count": null,
   "metadata": {},
   "outputs": [],
   "source": [
    "fig = plt.figure(figsize=(8, 4))\n",
    "\n",
    "subplots = [121, 122]\n",
    "linestyles = ['-k', '--b']\n",
    "\n",
    "# Look at two cases of N, two cases of b*\n",
    "n_array = [10, 20]\n",
    "bstar_array = [0.5, 0.1]\n",
    "\n",
    "for subplot, n in zip(subplots, n_array):\n",
    "    ax = fig.add_subplot(subplot, yscale='log')\n",
    "    k = np.arange(n + 1)\n",
    "\n",
    "    # plot curves for two values of bstar\n",
    "    for ls, bstar in zip(linestyles, bstar_array):\n",
    "        ax.plot(k, odds_ratio(n, k, bstar), ls,\n",
    "                label=r'$b^* = %.1f$' % bstar)\n",
    "\n",
    "    if subplot == 121:\n",
    "        ax.set_ylabel(r'$O_{21}$')\n",
    "        ax.legend(loc=2)\n",
    "    else:\n",
    "        ax.yaxis.set_major_formatter(plt.NullFormatter())\n",
    "\n",
    "    ax.set_xlabel('$k$')\n",
    "    ax.set_title('$N = %i$' % n)\n",
    "    ax.set_ylim(8E-2, 1E3)\n",
    "    ax.xaxis.set_major_locator(plt.MultipleLocator(n / 5))\n",
    "    ax.grid()\n"
   ]
  },
  {
   "cell_type": "markdown",
   "metadata": {},
   "source": [
    "Note that the odds ratio is minimized and below 1 (model 1 wins) when $k = b_* N$.\n",
    "\n",
    "Let us think about some concrete cases:\n",
    "\n",
    "* Assume we tossed 10 times ($N=10$), observer 1 heads ($k=1$), then the odds ratio of a model with unknown $b$ over a model with $b_*=0.1$ is small ~0.3 -- data does not strongly prefer the model with unknown $b$. OTOH, the odds ratio of a model with unknown $b$ over a model with $b_*=0.5$ is larger ~10 -- data has decent support for Model 2. \n",
    "\n",
    "* Assume we tossed 20 times ($N=20$), observer 8 heads ($k=8$), then the odds ratio of a model with unknown $b$ over a model with $b_*=0.1$ is very high ~100 -- data does strongly prefer the model with unknown $b$. OTOH, the odds ratio of a model with unknown $b$ over a model with $b_*=0.5$ is small ~0.4 -- data does not strongly prefer Model 2. "
   ]
  },
  {
   "cell_type": "markdown",
   "metadata": {},
   "source": [
    "## Hypothesis testing"
   ]
  },
  {
   "cell_type": "markdown",
   "metadata": {},
   "source": [
    "Turning the above example into a hypothesis testing question: \n",
    "\n",
    "Say we throw the dice 20 times and observe 16 heads, we assume the null hypothesis to be that the coin is fair ($b_*=0.5$), and want to know if we can reject that hypothesis. "
   ]
  },
  {
   "cell_type": "markdown",
   "metadata": {},
   "source": [
    "### Classical approach\n",
    "\n",
    "Plug $b=b_*=0.5$ into the binomial distribution, we get the mean $k^0=b_* N=10$, with $\\sigma_k=\\sqrt{Nb_*(1-b_*)} = 2.24$, so $k=16$ is about 2.7$\\sigma_k$ away from the mean. If we set our criteria to reject to reject the null at $\\alpha=0.05$, $k=16$ will be rejected.  "
   ]
  },
  {
   "cell_type": "markdown",
   "metadata": {},
   "source": [
    "### Bayesian approach\n",
    "\n",
    "We cannot reject the hypothesis without an alternative model. Using Model 2 as an alternative (considering all possible $b$ values), at $N=20$, $k=16$, the odds ratio is about 10."
   ]
  },
  {
   "cell_type": "code",
   "execution_count": null,
   "metadata": {},
   "outputs": [],
   "source": []
  },
  {
   "cell_type": "code",
   "execution_count": null,
   "metadata": {},
   "outputs": [],
   "source": []
  }
 ],
 "metadata": {
  "kernelspec": {
   "display_name": "astr340",
   "language": "python",
   "name": "astr340"
  },
  "language_info": {
   "codemirror_mode": {
    "name": "ipython",
    "version": 3
   },
   "file_extension": ".py",
   "mimetype": "text/x-python",
   "name": "python",
   "nbconvert_exporter": "python",
   "pygments_lexer": "ipython3",
   "version": "3.9.21"
  }
 },
 "nbformat": 4,
 "nbformat_minor": 4
}
