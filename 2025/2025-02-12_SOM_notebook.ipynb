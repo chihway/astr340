{
 "cells": [
  {
   "cell_type": "markdown",
   "id": "f41a8c58-f47b-4a85-9bfd-0f5895a5672e",
   "metadata": {},
   "source": [
    "# **Self-Organizing Map (SOM) for Redshift Estimation**\n",
    "### **Notebook Summary**\n",
    "This notebook demonstrates the use of **Self-Organizing Maps (SOMs)** to structure and reduce photometric data for estimating redshift distributions. The main steps are:\n",
    "\n",
    "1. **Loading Data**: Import fluxes and errors from a **deep-field photometric sample** and a **spectroscopic sample**.  \n",
    "2. **Training the SOM**: A SOM is trained using the **deep-field photometric sample**, learning the structure of the color-magnitude space.  \n",
    "3. **Assigning Galaxies to the SOM**: Both the **deep photometric sample** and the **spectroscopic sample** are assigned to the trained SOM.  \n",
    "4. **Estimating \\( p(z) \\)**: The redshift distribution is estimated by computing the probability of redshift per SOM cell.  \n",
    "5. **Analyzing Results**: The final redshift distribution is visualized, along with diagnostics on how well the SOM represents the spectroscopic sample."
   ]
  },
  {
   "cell_type": "code",
   "execution_count": null,
   "id": "223ec1d6-3495-4524-84bd-79b0eface66b",
   "metadata": {},
   "outputs": [],
   "source": [
    "import numpy as np\n",
    "import matplotlib.pyplot as plt\n",
    "import pandas as pd\n",
    "import joblib\n",
    "import astropy.io.fits as pf"
   ]
  },
  {
   "cell_type": "markdown",
   "id": "ac5c5f12-0760-4a66-aac8-7c593402ed93",
   "metadata": {},
   "source": [
    "- Andresa Campos, https://arxiv.org/pdf/2408.00922\n",
    "- Code available at https://github.com/AndresaCampos/sompz_y6"
   ]
  },
  {
   "cell_type": "code",
   "execution_count": null,
   "id": "ee072ae6-be03-4a15-9a97-d3c904219e2a",
   "metadata": {},
   "outputs": [],
   "source": [
    "import NoiseSOM as ns"
   ]
  },
  {
   "cell_type": "markdown",
   "id": "60a15198-36ea-46c0-b572-e27ea11dfa57",
   "metadata": {},
   "source": [
    "### **Loading Data**\n",
    "- The photometric and spectroscopic samples are loaded.  \n",
    "- The **deep-field sample** contains galaxies **without redshifts**.  \n",
    "- The **spectroscopic sample** includes galaxies with measured redshifts.  "
   ]
  },
  {
   "cell_type": "code",
   "execution_count": null,
   "id": "6c44a939-1034-4fc2-80dd-77028bbe88dc",
   "metadata": {},
   "outputs": [],
   "source": [
    "spec_file = pf.open('spec_data_SOM_small.fits')\n",
    "deep_file = pf.open('deep_data_SOM_small.fits')"
   ]
  },
  {
   "cell_type": "code",
   "execution_count": null,
   "id": "ca94f405-4cb9-4f20-9dc7-8836087fab55",
   "metadata": {},
   "outputs": [],
   "source": [
    "spec_data = spec_file[1].data\n",
    "deep_data = deep_file[1].data"
   ]
  },
  {
   "cell_type": "code",
   "execution_count": null,
   "id": "334c42b9-3574-45fc-af4c-bfdf7c7c2b78",
   "metadata": {},
   "outputs": [],
   "source": [
    "# broad bands in deep photometry catalog\n",
    "bands =  ['u', 'g', 'r', 'i', 'z', 'J', 'H', 'K']\n",
    "bands_label =  'flux_'\n",
    "bands_err_label = 'flux_err_'\n",
    "\n",
    "# SOM configuration\n",
    "som_side = 10"
   ]
  },
  {
   "cell_type": "code",
   "execution_count": null,
   "id": "47c88241-050c-42f9-b9cf-bc935b48f633",
   "metadata": {},
   "outputs": [],
   "source": [
    "# Create flux and flux_err vectors for deep sample\n",
    "len_sample = len(deep_data[bands_label + bands[0]])\n",
    "fluxes_d = np.zeros((len_sample, len(bands)))\n",
    "fluxerrs_d = np.zeros((len_sample, len(bands)))\n",
    "for i, band in enumerate(bands):\n",
    "    fluxes_d[:, i] = deep_data[bands_label + band]\n",
    "    fluxerrs_d[:, i] = deep_data[bands_err_label + band]\n",
    "\n",
    "# Create flux and flux_err vectors for spec sample\n",
    "len_sample_spec = len(spec_data[bands_label + bands[0]])\n",
    "fluxes_s = np.zeros((len_sample_spec, len(bands)))\n",
    "fluxerrs_s = np.zeros((len_sample_spec, len(bands)))\n",
    "for i, band in enumerate(bands):\n",
    "    fluxes_s[:, i] = spec_data[bands_label + band]\n",
    "    fluxerrs_s[:, i] = spec_data[bands_err_label + band]"
   ]
  },
  {
   "cell_type": "markdown",
   "id": "56764b45-b5b1-47c1-a836-37406a14b42d",
   "metadata": {},
   "source": [
    "### **Training the SOM**\n",
    "- The SOM is trained using the **deep-field galaxies** (no redshifts).  \n",
    "- The SOM clusters galaxies based on their **photometric fluxes**.  \n",
    "- It learns the **color structure of the data**, preserving topological relationships.  \n"
   ]
  },
  {
   "cell_type": "code",
   "execution_count": null,
   "id": "6aa9a9a1-a36e-41c0-b579-96b010be3763",
   "metadata": {},
   "outputs": [],
   "source": [
    "# Scramble the order of the catalog for purposes of training\n",
    "indices = np.random.choice(fluxes_d.shape[0], size=fluxes_d.shape[0], replace=False)"
   ]
  },
  {
   "cell_type": "code",
   "execution_count": null,
   "id": "40d7a1c7-60a7-43ff-aa65-1bf7a5e73b3d",
   "metadata": {},
   "outputs": [],
   "source": [
    "# Initialise the learning funcion \n",
    "hh = ns.hFunc(fluxes_d.shape[0],  a=(0.3, 0.1), sigma=(5., 1.)) \n",
    "\n",
    "# Set the metric \n",
    "metric = ns.LinearMetric()\n",
    "# metric = ns.AsinhMetric(lnScaleSigma=0.4, lnScaleStep=0.03)\n"
   ]
  },
  {
   "cell_type": "code",
   "execution_count": null,
   "id": "ee6bb304-6431-4fe9-a694-2b08462bce8a",
   "metadata": {},
   "outputs": [],
   "source": [
    "# Now training the SOM!\n",
    "som = ns.NoiseSOM(metric, fluxes_d[indices, :], fluxerrs_d[indices, :],\n",
    "                  learning=hh,\n",
    "                  shape=(som_side, som_side),\n",
    "                  wrap=False, logF=True,\n",
    "                  initialize='sample',\n",
    "                  minError=0.02)"
   ]
  },
  {
   "cell_type": "markdown",
   "id": "80a08ad2-ad3b-49cd-a6d6-6ae88aa527c9",
   "metadata": {},
   "source": [
    "### **Assigning Galaxies to the SOM**\n",
    "- Both the **deep photometric sample** and the **spectroscopic sample** are assigned to the trained SOM.  \n",
    "- Each galaxy is mapped to its **Best Matching Unit (BMU)** in the SOM grid.  "
   ]
  },
  {
   "cell_type": "code",
   "execution_count": null,
   "id": "2d2f6ebc-a709-4dd4-9998-9cee6601e37e",
   "metadata": {
    "scrolled": true
   },
   "outputs": [],
   "source": [
    "# Assign galaxies to the som\n",
    "som = ns.NoiseSOM(metric, None, None,\n",
    "                  learning=None, \n",
    "                  shape=(som_side, som_side),\n",
    "                  wrap=False, logF=True,\n",
    "                  initialize=som.weights,\n",
    "                  minError=0.02)\n",
    "\n",
    "assignment_deep, _ = som.classify(fluxes_d, fluxerrs_d)\n",
    "assignment_spec, _ = som.classify(fluxes_s, fluxerrs_s)"
   ]
  },
  {
   "cell_type": "markdown",
   "id": "5b97d9dc-4917-416d-8fd3-6b87c9c26bf6",
   "metadata": {},
   "source": [
    "### **Visualizing the SOM**\n",
    "Galaxy assignment to cells"
   ]
  },
  {
   "cell_type": "code",
   "execution_count": null,
   "id": "e2254e25-6df2-4322-9c86-5756eb659617",
   "metadata": {},
   "outputs": [],
   "source": [
    "# Plot how galaxies are distributed in the som\n",
    "hist, _ = np.histogram(assignment_deep, bins=np.linspace(0, som_side*som_side, som_side*som_side + 1), density=False)\n",
    "hist = hist.reshape(som_side, som_side)\n",
    "\n",
    "fig, ax = plt.subplots(figsize=(4,4))\n",
    "img = ax.imshow(np.log10(hist), cmap='RdYlBu_r')\n",
    "\n",
    "cbar = fig.colorbar(img, ax=ax, shrink=0.8)\n",
    "\n",
    "ax.set_title('Deep data assignment')\n",
    "plt.show()"
   ]
  },
  {
   "cell_type": "markdown",
   "id": "4408009d-bdb9-4c91-94ee-a96a6c88bd28",
   "metadata": {},
   "source": [
    "### **Examining the Distribution of Colors**\n",
    "- Colors (e.g., \\( g - r, r - i, i - z \\)) provide key information about galaxy populations.  \n",
    "- The SOM is expected to **group galaxies with similar colors together**, preserving color relationships.  "
   ]
  },
  {
   "cell_type": "code",
   "execution_count": null,
   "id": "eae489db-9a15-471f-bf04-3eea62b8311c",
   "metadata": {},
   "outputs": [],
   "source": [
    "# obtain the mean magnitude for each cell c \n",
    "mag_spec = np.full((som_side * som_side, 8), np.nan)  \n",
    "mag_deep = np.full((som_side * som_side, 8), np.nan)\n",
    "\n",
    "# Iterate over cells and bands\n",
    "for c in range(som_side * som_side):\n",
    "    for m, band in enumerate(bands):\n",
    "        spec_values = spec_data[f'mag_{band}'][assignment_spec == c]\n",
    "        deep_values = deep_data[f'mag_{band}'][assignment_deep == c]\n",
    "\n",
    "        # Check if there are any valid values before computing mean\n",
    "        if spec_values.size > 0:\n",
    "            mag_spec[c, m] = np.nanmean(spec_values)\n",
    "        if deep_values.size > 0:\n",
    "            mag_deep[c, m] = np.nanmean(deep_values)"
   ]
  },
  {
   "cell_type": "code",
   "execution_count": null,
   "id": "dc8fa3db-d174-4e05-9773-e7e0ddc887c3",
   "metadata": {},
   "outputs": [],
   "source": [
    "# calculate the colors \n",
    "colors_spec = np.zeros((som_side*som_side, len(bands)-1))\n",
    "colors_deep = np.zeros((som_side*som_side, len(bands)-1))\n",
    "for j in range(som_side*som_side):\n",
    "    for i in range(len(bands)-1):\n",
    "        colors_spec[j,i] = mag_spec[j,i] - mag_spec[j,i+1]\n",
    "        colors_deep[j,i] = mag_deep[j,i] - mag_deep[j,i+1]"
   ]
  },
  {
   "cell_type": "code",
   "execution_count": null,
   "id": "1dc5d8e0-e1bf-4173-83ff-f49877e21389",
   "metadata": {},
   "outputs": [],
   "source": [
    "fig, axes = plt.subplots(2, 4, figsize=(12, 5))  \n",
    "\n",
    "for m in range(7):\n",
    "    col_reshaped = colors_deep.reshape(som_side, som_side, 7)\n",
    "    row = m // 4  \n",
    "    col = m % 4   \n",
    "\n",
    "    ax = axes[row, col] \n",
    "    img = ax.imshow(col_reshaped[:, :, m], cmap='RdYlBu_r')\n",
    "\n",
    "    ax.set_title(f'Colors {bands[m]}-{bands[m+1]}')\n",
    "    fig.colorbar(img, ax=ax, shrink=1)\n",
    "\n",
    "fig.delaxes(axes[1, 3])\n",
    "\n",
    "plt.tight_layout()\n",
    "plt.show()\n",
    "\n",
    "\n",
    "\n",
    "fig, axes = plt.subplots(2, 4, figsize=(12, 5))  \n",
    "\n",
    "for m in range(7):\n",
    "    col_reshaped = colors_spec.reshape(som_side, som_side, 7)\n",
    "    row = m // 4  \n",
    "    col = m % 4   \n",
    "\n",
    "    ax = axes[row, col] \n",
    "    img = ax.imshow(col_reshaped[:, :, m], cmap='RdYlBu_r')\n",
    "\n",
    "    ax.set_title(f'Colors {bands[m]}-{bands[m+1]}')\n",
    "    fig.colorbar(img, ax=ax, shrink=1)\n",
    "\n",
    "fig.delaxes(axes[1, 3])\n",
    "\n",
    "plt.tight_layout()\n",
    "plt.show()"
   ]
  },
  {
   "cell_type": "markdown",
   "id": "c402d9b9-c9c1-4e8e-aa8f-b301b1ef3143",
   "metadata": {},
   "source": [
    "**If color transitions smoothly across the SOM**, it suggests the SOM is correctly preserving photometric relationships.  \n",
    "The deep and spectroscopic color distributions should be similar, if otherwise it could mean that the deep sample may contain galaxies in color spaces **not well represented** in the spectroscopic sample"
   ]
  },
  {
   "cell_type": "markdown",
   "id": "a0cedebf-2704-43f7-8ea3-112c9d24b5db",
   "metadata": {},
   "source": [
    "### **Examining the Distribution of Redshift**"
   ]
  },
  {
   "cell_type": "code",
   "execution_count": null,
   "id": "e1b2a1ea-35fa-4153-8e6b-d565e305a6ad",
   "metadata": {},
   "outputs": [],
   "source": [
    "# compute the average z and std for each cell c \n",
    "pzc_mean = np.full(som_side * som_side, np.nan)\n",
    "pzc_std = np.full(som_side * som_side, np.nan)\n",
    "\n",
    "for c in range(som_side * som_side):\n",
    "    z_values = spec_data['Z'][assignment_spec == c]\n",
    "\n",
    "    if z_values.size > 0:  # Only compute if there are valid values\n",
    "        pzc_mean[c] = np.mean(z_values)\n",
    "        pzc_std[c] = np.std(z_values)\n"
   ]
  },
  {
   "cell_type": "code",
   "execution_count": null,
   "id": "25487abf-70c7-40d0-a357-81c5442fc324",
   "metadata": {},
   "outputs": [],
   "source": [
    "fig, ax = plt.subplots(1,3, figsize = (15,5))\n",
    "\n",
    "# ---------------\n",
    "hist, _ = np.histogram(assignment_spec, bins=np.linspace(0, som_side*som_side, som_side*som_side + 1), density=False)\n",
    "hist = hist.reshape(som_side, som_side)\n",
    "\n",
    "img = ax[0].imshow(np.log10(hist), cmap='RdYlBu_r')\n",
    "cbar = fig.colorbar(img, ax=ax[0], shrink=0.8)\n",
    "\n",
    "ax[0].set_title('Spec data assignment')\n",
    " \n",
    "# ---------------\n",
    "hist, _ = np.histogram(pzc_mean, bins=np.linspace(0, som_side*som_side, som_side*som_side + 1), density=False)\n",
    "hist = pzc_mean.reshape(som_side, som_side)\n",
    "\n",
    "img = ax[1].imshow(hist, cmap='RdYlBu_r')\n",
    "cbar = fig.colorbar(img, ax=ax[1], shrink=0.8)\n",
    "\n",
    "ax[1].set_title('<z>')\n",
    "\n",
    "# ---------------\n",
    "hist, _ = np.histogram(pzc_std, bins=np.linspace(0, som_side*som_side, som_side*som_side + 1), density=False)\n",
    "hist = pzc_std.reshape(som_side, som_side)\n",
    "\n",
    "img = ax[2].imshow(hist, cmap='RdYlBu_r')\n",
    "cbar = fig.colorbar(img, ax=ax[2], shrink=0.8)\n",
    "\n",
    "ax[2].set_title(r'$ \\sigma z$')\n",
    "# ---------------\n",
    "\n",
    "plt.tight_layout\n",
    "plt.show()"
   ]
  },
  {
   "cell_type": "markdown",
   "id": "d4e91499-be9c-4fe2-813b-a71fbfb98402",
   "metadata": {},
   "source": [
    "### **Comparison of Feature Distributions Before & After SOM**\n",
    "- The SOM groups galaxies based on their **photometric features**, preserving structure while reducing dimensionality.  \n",
    "- Here, we compare the **input feature distributions** (e.g., fluxes, colors, magnitudes) to their **SOM-mapped equivalents**.  \n",
    "- If the SOM is working correctly:\n",
    "  - The distribution should **broadly match** between input and mapped data.\n",
    "  - Some shifts may occur, particularly in **regions where photometry is noisy or undersampled**.\n",
    "  - Outlier regions might collapse into a **few highly occupied SOM cells**.\n",
    "- Large discrepancies could indicate:\n",
    "  - Poor metric choice.\n",
    "  - Overfitting to the training sample.\n",
    "  - Missing bands or poor photometric calibration.\n"
   ]
  },
  {
   "cell_type": "code",
   "execution_count": null,
   "id": "7d59286b-66ca-48ed-aac8-a02a7695665c",
   "metadata": {},
   "outputs": [],
   "source": [
    "#bands =  ['u', 'g', 'r', 'i', 'z', 'J', 'H', 'K']\n",
    "# Choose a band\n",
    "\n",
    "b_index = 3  # Example: 1st column in fluxes (replace with actual index)\n",
    "\n",
    "# Original distribution\n",
    "plt.hist(fluxes_d[:, b_index], bins=30, alpha=0.5, label=\"Original\", density=True)\n",
    "\n",
    "# SOM-reduced distribution (take mean feature values per cell)\n",
    "som_means = [np.mean(fluxes_d[assignment_deep == c, b_index]) for c in range(som_side*som_side)]\n",
    "plt.hist(som_means, bins=30, alpha=0.5, label=\"SOM-reduced\", density=True)\n",
    "\n",
    "plt.xlabel(\"Flux {}-band\".format(bands[b_index]))\n",
    "plt.ylabel(\"Density\")\n",
    "plt.title(\"Comparison of Feature Distributions Before & After SOM\")\n",
    "plt.legend()\n",
    "plt.show()\n"
   ]
  },
  {
   "cell_type": "markdown",
   "id": "77d75864-d05e-465b-bcc9-81a8ad4f195f",
   "metadata": {},
   "source": [
    "## **Now let's see what happens if we increase the resolution!**"
   ]
  },
  {
   "cell_type": "code",
   "execution_count": null,
   "id": "a0a202a0-fb8b-4d1c-b1a4-c85aa1e6dc6a",
   "metadata": {},
   "outputs": [],
   "source": [
    "# increase SOM resolution\n",
    "som_side = 20"
   ]
  },
  {
   "cell_type": "code",
   "execution_count": null,
   "id": "2f090b9f-4e4a-48f2-8fe4-4cf6a76bd483",
   "metadata": {},
   "outputs": [],
   "source": [
    "# Retrain the SOM!\n",
    "som = ns.NoiseSOM(metric, fluxes_d[indices, :], fluxerrs_d[indices, :],\n",
    "                  learning=hh,\n",
    "                  shape=(som_side, som_side),\n",
    "                  wrap=False, logF=True,\n",
    "                  initialize='sample',\n",
    "                  minError=0.02)"
   ]
  },
  {
   "cell_type": "code",
   "execution_count": null,
   "id": "308a6cbc-c453-4cf0-8a52-e04a14e26357",
   "metadata": {
    "scrolled": true
   },
   "outputs": [],
   "source": [
    "# Assign galaxies \n",
    "som = ns.NoiseSOM(metric, None, None,\n",
    "                  learning=None, \n",
    "                  shape=(som_side, som_side),\n",
    "                  wrap=False, logF=True,\n",
    "                  initialize=som.weights,\n",
    "                  minError=0.02)\n",
    "\n",
    "assignment_deep, _ = som.classify(fluxes_d, fluxerrs_d)\n",
    "assignment_spec, _ = som.classify(fluxes_s, fluxerrs_s)"
   ]
  },
  {
   "cell_type": "code",
   "execution_count": null,
   "id": "38f7783e-d30b-46d7-9303-cd02c1dc5272",
   "metadata": {},
   "outputs": [],
   "source": [
    "# Plot how galaxies are distributed in the som\n",
    "hist, _ = np.histogram(assignment_deep, bins=np.linspace(0, som_side*som_side, som_side*som_side + 1), density=False)\n",
    "hist = hist.reshape(som_side, som_side)\n",
    "\n",
    "fig, ax = plt.subplots(figsize=(4,4))\n",
    "img = ax.imshow(np.log10(hist), cmap='RdYlBu_r')\n",
    "cbar = fig.colorbar(img, ax=ax, shrink=0.8)\n",
    "\n",
    "ax.set_title('Deep data assignment')\n",
    "plt.show()"
   ]
  },
  {
   "cell_type": "code",
   "execution_count": null,
   "id": "b14a70f0-7660-4611-b089-799d5ab3b817",
   "metadata": {},
   "outputs": [],
   "source": [
    "# obtain the mean magnitude for each cell c \n",
    "mag_spec = np.full((som_side * som_side, 8), np.nan)  \n",
    "mag_deep = np.full((som_side * som_side, 8), np.nan)\n",
    "\n",
    "# Iterate over cells and bands\n",
    "for c in range(som_side * som_side):\n",
    "    for m, band in enumerate(bands):\n",
    "        spec_values = spec_data[f'mag_{band}'][assignment_spec == c]\n",
    "        deep_values = deep_data[f'mag_{band}'][assignment_deep == c]\n",
    "\n",
    "        # Check if there are any valid values before computing mean\n",
    "        if spec_values.size > 0:\n",
    "            mag_spec[c, m] = np.nanmean(spec_values)\n",
    "        if deep_values.size > 0:\n",
    "            mag_deep[c, m] = np.nanmean(deep_values)"
   ]
  },
  {
   "cell_type": "code",
   "execution_count": null,
   "id": "6f381d30-c095-409a-b437-04e3e0f901fc",
   "metadata": {},
   "outputs": [],
   "source": [
    "# calculate the colors \n",
    "colors_spec = np.zeros((som_side*som_side, len(bands)-1))\n",
    "colors_deep = np.zeros((som_side*som_side, len(bands)-1))\n",
    "for j in range(som_side*som_side):\n",
    "    for i in range(len(bands)-1):\n",
    "        colors_spec[j,i] = mag_spec[j,i] - mag_spec[j,i+1]\n",
    "        colors_deep[j,i] = mag_deep[j,i] - mag_deep[j,i+1]"
   ]
  },
  {
   "cell_type": "code",
   "execution_count": null,
   "id": "17d0fbe9-1f52-4398-a080-bf0689536ed0",
   "metadata": {},
   "outputs": [],
   "source": [
    "fig, axes = plt.subplots(2, 4, figsize=(12, 5))  \n",
    "\n",
    "for m in range(len(bands)-1):\n",
    "    col_reshaped = colors_deep.reshape(som_side, som_side, len(bands)-1)\n",
    "    row = m // 4  \n",
    "    col = m % 4   \n",
    "\n",
    "    ax = axes[row, col] \n",
    "    img = ax.imshow(col_reshaped[:, :, m], cmap='RdYlBu_r')\n",
    "\n",
    "    ax.set_title(f'Colors deep {bands[m]}-{bands[m+1]}')\n",
    "    fig.colorbar(img, ax=ax, shrink=1)\n",
    "\n",
    "fig.delaxes(axes[1, 3])\n",
    "\n",
    "plt.tight_layout()\n",
    "plt.show()\n",
    "\n",
    "\n",
    "\n",
    "fig, axes = plt.subplots(2, 4, figsize=(12, 5))  \n",
    "\n",
    "for m in range(len(bands)-1):\n",
    "    col_reshaped = colors_spec.reshape(som_side, som_side, len(bands)-1)\n",
    "    row = m // 4  \n",
    "    col = m % 4   \n",
    "\n",
    "    ax = axes[row, col] \n",
    "    img = ax.imshow(col_reshaped[:, :, m], cmap='RdYlBu_r')\n",
    "\n",
    "    ax.set_title(f'Colors spec {bands[m]}-{bands[m+1]}')\n",
    "    fig.colorbar(img, ax=ax, shrink=1)\n",
    "\n",
    "fig.delaxes(axes[1, 3])\n",
    "\n",
    "plt.tight_layout()\n",
    "plt.show()"
   ]
  },
  {
   "cell_type": "code",
   "execution_count": null,
   "id": "864a6cd7-da85-48f9-ab65-c2725995e832",
   "metadata": {},
   "outputs": [],
   "source": [
    "# compute the average z and std for each cell c \n",
    "pzc_mean = np.full(som_side * som_side, np.nan)\n",
    "pzc_std = np.full(som_side * som_side, np.nan)\n",
    "\n",
    "for c in range(som_side * som_side):\n",
    "    z_values = spec_data['Z'][assignment_spec == c]\n",
    "\n",
    "    if z_values.size > 0:  # Only compute if there are valid values\n",
    "        pzc_mean[c] = np.mean(z_values)\n",
    "        pzc_std[c] = np.std(z_values)"
   ]
  },
  {
   "cell_type": "code",
   "execution_count": null,
   "id": "a95f14b9-d3a4-418a-9e91-dd74c691d880",
   "metadata": {},
   "outputs": [],
   "source": [
    "fig, ax = plt.subplots(1,3, figsize = (15,5))\n",
    "\n",
    "# ---------------\n",
    "hist, _ = np.histogram(assignment_spec, bins=np.linspace(0, som_side*som_side, som_side*som_side + 1), density=False)\n",
    "hist = hist.reshape(som_side, som_side)\n",
    "\n",
    "img = ax[0].imshow(np.log10(hist), cmap='RdYlBu_r')\n",
    "cbar = fig.colorbar(img, ax=ax[0], shrink=0.8)\n",
    "\n",
    "ax[0].set_title('Spec data assignment')\n",
    " \n",
    "# ---------------\n",
    "hist, _ = np.histogram(pzc_mean, bins=np.linspace(0, som_side*som_side, som_side*som_side + 1), density=False)\n",
    "hist = pzc_mean.reshape(som_side, som_side)\n",
    "\n",
    "img = ax[1].imshow(hist, cmap='RdYlBu_r')\n",
    "cbar = fig.colorbar(img, ax=ax[1], shrink=0.8)\n",
    "\n",
    "ax[1].set_title('<z>')\n",
    "\n",
    "# ---------------\n",
    "hist, _ = np.histogram(pzc_std, bins=np.linspace(0, som_side*som_side, som_side*som_side + 1), density=False)\n",
    "hist = pzc_std.reshape(som_side, som_side)\n",
    "\n",
    "img = ax[2].imshow(hist, cmap='RdYlBu_r')\n",
    "cbar = fig.colorbar(img, ax=ax[2], shrink=0.8)\n",
    "\n",
    "ax[2].set_title(r'$ \\sigma z$')\n",
    "# ---------------\n",
    "\n",
    "plt.tight_layout\n",
    "plt.show()"
   ]
  },
  {
   "cell_type": "markdown",
   "id": "2d056e8b-9c91-451c-bd3b-16360b415d29",
   "metadata": {},
   "source": [
    "**Missing redshift information** in a significant portion of SOM will be leaving some photometric regions uncalibrated!! This can lead to a distorted estimated p(z) and to **biases in redshift estimation** and large-scale structure analyses."
   ]
  },
  {
   "cell_type": "markdown",
   "id": "68b13fb8-4d59-4cbd-937c-edcbafdf8e42",
   "metadata": {},
   "source": [
    "# **Exploring Non-Linear Metrics in SOM**\n",
    "- So far, we've used a **linear metric** (e.g., Euclidean distance in flux space) to train the SOM.\n",
    "- However, **high-dimensional spaces behave differently**, and linear distances might not be the best choice.\n",
    "- **Why?**\n",
    "  - In **higher dimensions**, distances tend to cluster around the mean due to the \"curse of dimensionality.\"\n",
    "  - A **non-linear metric** (e.g., one based on asinh-transformed features) can help preserve relative differences.\n",
    "  - This could lead to **better clustering** and **improved redshift recovery**.\n",
    "- Let's switch the SOM metric from `LinearMetric` to a **non-linear metric**, and observe:\n",
    "  - Changes in **SOM cell assignments**.\n",
    "  - Differences in **final redshift distributions**.\n",
    "  - Whether **previously degenerate regions** become better separated.\n"
   ]
  },
  {
   "cell_type": "code",
   "execution_count": null,
   "id": "f5b8edaf-ee42-4297-9e61-faeb6fbc69bd",
   "metadata": {},
   "outputs": [],
   "source": [
    "# Scramble the order of the catalog for purposes of training\n",
    "indices = np.random.choice(fluxes_d.shape[0], size=fluxes_d.shape[0], replace=False)"
   ]
  },
  {
   "cell_type": "code",
   "execution_count": null,
   "id": "8334d0cd-28b0-406c-ba93-0defedb35850",
   "metadata": {},
   "outputs": [],
   "source": [
    "# Initialise the learning funcion \n",
    "hh = ns.hFunc(fluxes_d.shape[0],  a=(0.3, 0.1), sigma=(5., 1.)) \n",
    "\n",
    "# Set a non linear metric, optimised foor color space!!! \n",
    "metric = ns.AsinhMetric(lnScaleSigma=0.4, lnScaleStep=0.03)\n"
   ]
  },
  {
   "cell_type": "markdown",
   "id": "4dde539b-c7e7-4df7-a317-3d80bac307a6",
   "metadata": {
    "jp-MarkdownHeadingCollapsed": true
   },
   "source": [
    "we won't be training the SOM, it takes a few minutes! Load it instead"
   ]
  },
  {
   "cell_type": "code",
   "execution_count": null,
   "id": "10b2b1e1-5483-4c13-b7bf-fec051cbecbd",
   "metadata": {},
   "outputs": [],
   "source": [
    "# Load the saved SOM file\n",
    "saved_som = np.load(\"trained_som_AsinhMetric.npz\")\n",
    "\n",
    "# Extract weights and shape\n",
    "weights = saved_som[\"weights\"]\n",
    "shape = tuple(saved_som[\"shape\"])  # Ensure shape is a tuple\n",
    "\n",
    "# Initialize a new NoiseSOM from the loaded weights and shape\n",
    "som = ns.NoiseSOM(metric, None, None,\n",
    "                  learning=hh,\n",
    "                  shape=shape,\n",
    "                  wrap=False, logF=True,\n",
    "                  initialize=weights,\n",
    "                  minError=0.02)"
   ]
  },
  {
   "cell_type": "markdown",
   "id": "2fb78d45-aa54-47f2-9310-531d6f725104",
   "metadata": {
    "jp-MarkdownHeadingCollapsed": true
   },
   "source": [
    "We won't be assigning galaxies to the SOM, it takes MORE than a few minutes! Load it again :) "
   ]
  },
  {
   "cell_type": "code",
   "execution_count": null,
   "id": "90a814be-608d-4996-9419-e6318dc16d04",
   "metadata": {},
   "outputs": [],
   "source": [
    "assignment_deep = np.load(\"assignment_deep_AsinhMetric.npy\")\n",
    "assignment_spec = np.load(\"assignment_spec_AsinhMetric.npy\")"
   ]
  },
  {
   "cell_type": "code",
   "execution_count": null,
   "id": "958f42b4-5e9b-40b1-b3ef-c302c56d07a3",
   "metadata": {},
   "outputs": [],
   "source": [
    "# compute the average z and std for each cell c \n",
    "pzc_mean = np.full(som_side * som_side, np.nan)\n",
    "pzc_std = np.full(som_side * som_side, np.nan)\n",
    "\n",
    "for c in range(som_side * som_side):\n",
    "    z_values = spec_data['Z'][assignment_spec == c]\n",
    "\n",
    "    if z_values.size > 0:  # Only compute if there are valid values\n",
    "        pzc_mean[c] = np.mean(z_values)\n",
    "        pzc_std[c] = np.std(z_values)"
   ]
  },
  {
   "cell_type": "code",
   "execution_count": null,
   "id": "79831fcb-414c-4e13-875e-18bc3dde6e55",
   "metadata": {},
   "outputs": [],
   "source": [
    "fig, ax = plt.subplots(1,3, figsize = (15,5))\n",
    "\n",
    "# ---------------\n",
    "hist, _ = np.histogram(assignment_spec, bins=np.linspace(0, som_side*som_side, som_side*som_side + 1), density=False)\n",
    "hist = hist.reshape(som_side, som_side)\n",
    "\n",
    "img = ax[0].imshow(np.log10(hist), cmap='RdYlBu_r')\n",
    "cbar = fig.colorbar(img, ax=ax[0], shrink=0.8)\n",
    "\n",
    "ax[0].set_title('Spec data assignment')\n",
    " \n",
    "# ---------------\n",
    "hist, _ = np.histogram(pzc_mean, bins=np.linspace(0, som_side*som_side, som_side*som_side + 1), density=False)\n",
    "hist = pzc_mean.reshape(som_side, som_side)\n",
    "\n",
    "img = ax[1].imshow(hist, cmap='RdYlBu_r')\n",
    "cbar = fig.colorbar(img, ax=ax[1], shrink=0.8)\n",
    "\n",
    "ax[1].set_title('<z>')\n",
    "\n",
    "# ---------------\n",
    "hist, _ = np.histogram(pzc_std, bins=np.linspace(0, som_side*som_side, som_side*som_side + 1), density=False)\n",
    "hist = pzc_std.reshape(som_side, som_side)\n",
    "\n",
    "img = ax[2].imshow(hist, cmap='RdYlBu_r')\n",
    "cbar = fig.colorbar(img, ax=ax[2], shrink=0.8)\n",
    "\n",
    "ax[2].set_title(r'$ \\sigma z$')\n",
    "# ---------------\n",
    "\n",
    "plt.tight_layout\n",
    "plt.show()"
   ]
  },
  {
   "cell_type": "markdown",
   "id": "837078bb-3e65-418b-ad35-dd15a6392114",
   "metadata": {},
   "source": [
    "#### **Why Does a Non-Linear Metric Improve the Flux Distribution in the SOM?**\n",
    "- A **linear metric** (e.g., Euclidean) distorts flux relationships:\n",
    "  - Faint sources are **compressed**, and bright sources **stretch apart**.\n",
    "  - This creates **empty SOM cells** and **biases the mapping**.\n",
    "- A **non-linear metric (e.g., `AsinhMetric`)** rescales fluxes:\n",
    "  - **Linear scaling for faint sources** (preserving details).  \n",
    "  - **Log scaling for bright sources** (preventing outliers from dominating).\n",
    "- **Impact:**  \n",
    "  ✅ More uniform flux mapping → **Fewer empty cells**  \n",
    "  ✅ Better-preserved flux distribution → **More reliable clustering & redshifts**  \n",
    "  ✅ Smoother transition across SOM cells → **More robust data reduction**  "
   ]
  },
  {
   "cell_type": "markdown",
   "id": "57213455-9a10-4b4d-b44d-bd685f8c7d6a",
   "metadata": {},
   "source": [
    "Now compare histograms of **flux before & after SOM mapping** with the non linear metric!  "
   ]
  },
  {
   "cell_type": "code",
   "execution_count": null,
   "id": "af357a93-d236-4b53-b819-14733215c737",
   "metadata": {},
   "outputs": [],
   "source": [
    "#bands =  ['u', 'g', 'r', 'i', 'z', 'J', 'H', 'K']\n",
    "# Choose a band\n",
    "\n",
    "b_index = 3  # Example: 1st column in fluxes (replace with actual index)\n",
    "\n",
    "# Original distribution\n",
    "plt.hist(fluxes_d[:, b_index], bins=30, alpha=0.5, label=\"Original\", density=True)\n",
    "\n",
    "# SOM-reduced distribution (take mean feature values per cell)\n",
    "som_means = [np.mean(fluxes_d[assignment_deep == c, b_index]) for c in range(som_side*som_side)]\n",
    "plt.hist(som_means, bins=30, alpha=0.5, label=\"SOM-reduced\", density=True)\n",
    "\n",
    "plt.xlabel(\"Flux {}-band\".format(bands[b_index]))\n",
    "plt.ylabel(\"Density\")\n",
    "plt.title(\"Comparison of Feature Distributions Before & After SOM\")\n",
    "plt.legend()\n",
    "plt.show()\n"
   ]
  },
  {
   "cell_type": "markdown",
   "id": "2550d08d-9335-4f1d-9622-4c29fbad59c2",
   "metadata": {},
   "source": [
    "# **Finally, estimating the Redshift Distribution \\( p(z) \\)**\n",
    "- The redshift distribution is computed using:  \n",
    "  $p(z) = \\sum_c p(z | c) p(c) $  \n",
    "- Here, p(c)  is the probability of a galaxy being assigned to a SOM cell,  \n",
    "  and  p(z | c)  is the redshift distribution for that cell.  "
   ]
  },
  {
   "cell_type": "code",
   "execution_count": null,
   "id": "1e675c68-e6b3-4057-b346-e00019d4258b",
   "metadata": {},
   "outputs": [],
   "source": [
    "def compute_pzc(spec_assigned_cells, spec_redshifts, num_bins=50, z_range=(0, 3)):\n",
    "    \"\"\"Computes p(z | c) for each SOM cell using the spectroscopic sample.\"\"\"\n",
    "    nz_som = {}\n",
    "    for (c, z) in zip(spec_assigned_cells, spec_redshifts):\n",
    "        if c not in nz_som:\n",
    "            nz_som[c] = []\n",
    "        nz_som[c].append(z)\n",
    "    \n",
    "    nz_prob = {c: np.histogram(z_list, bins=num_bins, range=z_range, density=True)[0] \n",
    "               for c, z_list in nz_som.items()}\n",
    "    z_bins = np.linspace(z_range[0], z_range[1], num_bins + 1)\n",
    "    \n",
    "    return nz_prob, z_bins\n",
    "\n",
    "def compute_pc(phot_assigned_cells):\n",
    "    \"\"\"Computes p(c) for the photometric sample.\"\"\"\n",
    "    unique_cells, counts = np.unique(phot_assigned_cells, return_counts=True)\n",
    "    total_phot = len(phot_assigned_cells)\n",
    "    return {c: count / total_phot for c, count in zip(unique_cells, counts)}\n",
    "\n",
    "def estimate_pz(nz_prob, p_c, z_bins):\n",
    "    \"\"\"Computes final p(z) using p(z) = sum_c p(z|c) p(c).\"\"\"\n",
    "    p_z = np.zeros(len(z_bins) - 1)\n",
    "    for c in p_c:\n",
    "        if c in nz_prob:  # Only use cells with spectroscopic redshifts\n",
    "            p_z += nz_prob[c] * p_c[c]\n",
    "    \n",
    "    # Normalize p(z)\n",
    "    p_z /= np.sum(p_z)\n",
    "    \n",
    "    return z_bins, p_z"
   ]
  },
  {
   "cell_type": "code",
   "execution_count": null,
   "id": "749869ab-b122-438d-a6e1-d4356e84977d",
   "metadata": {},
   "outputs": [],
   "source": [
    "# compute p(z) for each cell c\n",
    "nz_prob, z_bins = compute_pzc(assignment_spec, spec_data['Z'], num_bins=25, z_range=(0, 1.5))"
   ]
  },
  {
   "cell_type": "code",
   "execution_count": null,
   "id": "f8112d22-08f5-47ce-9d3d-1e06da155a26",
   "metadata": {},
   "outputs": [],
   "source": [
    "# compute p(c) for each cell c\n",
    "pc = compute_pc(assignment_deep)"
   ]
  },
  {
   "cell_type": "code",
   "execution_count": null,
   "id": "6e6b1bab-1dd3-4ee4-89af-c6a33181e211",
   "metadata": {},
   "outputs": [],
   "source": [
    "# compute final p(z)\n",
    "z_bins, pz = estimate_pz(nz_prob, pc, z_bins)"
   ]
  },
  {
   "cell_type": "markdown",
   "id": "5247081b-308a-414f-a238-097fe32d64ea",
   "metadata": {},
   "source": [
    "### **Visualizing the Redshift Distribution**\n",
    "- The final **estimated redshift distribution** is plotted.  \n",
    "- The **spectroscopic redshifts** are overlaid for comparison.  \n",
    "- If \\( p(z) \\) does not change significantly under different conditions,  \n",
    "  it suggests the SOM assignments are not varying much.  \n"
   ]
  },
  {
   "cell_type": "code",
   "execution_count": null,
   "id": "77154c7c-49a9-4866-a49d-fbad91f8bb75",
   "metadata": {},
   "outputs": [],
   "source": [
    "zbinsc = 0.5 * (z_bins[:-1] + z_bins[1:])\n",
    "\n",
    "plt.plot(zbinsc, pz/np.trapz(pz, zbinsc), label='Estimated p(z)')\n",
    "plt.hist(spec_data['Z'], bins = z_bins, color = 'tab:blue', alpha = 0.3, density = True, label = 'Spectroscopic z')\n",
    "plt.xlabel('Redshift z')\n",
    "plt.ylabel('Probability Density n(z)')\n",
    "plt.title('Estimated Redshift Distribution using SOM')\n",
    "plt.legend()\n",
    "plt.show()\n"
   ]
  }
 ],
 "metadata": {
  "kernelspec": {
   "display_name": "SOMPZ",
   "language": "python",
   "name": "sompz"
  },
  "language_info": {
   "codemirror_mode": {
    "name": "ipython",
    "version": 3
   },
   "file_extension": ".py",
   "mimetype": "text/x-python",
   "name": "python",
   "nbconvert_exporter": "python",
   "pygments_lexer": "ipython3",
   "version": "3.10.9"
  }
 },
 "nbformat": 4,
 "nbformat_minor": 5
}
