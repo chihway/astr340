{
 "cells": [
  {
   "cell_type": "markdown",
   "metadata": {},
   "source": [
    "# In-class notebook: 2025-01-13\n",
    "\n",
    "In this notebook, we will get familiar with a number of common distributions that you might encounter in your research. We will then look at some illustration of the central limit theory. And finally how to generate a random number from an arbitrary distribution.\n",
    "\n",
    "This notebook is intended to support Chapter 3.3-3.7 of the textbook, and material is taken from the following scripts (from astroML):\n",
    "\n",
    "* https://github.com/astroML/astroML-notebooks/blob/main/chapter3/astroml_chapter3_Univariate_Distribution_Functions.ipynb\n",
    "* https://github.com/astroML/astroML-notebooks/blob/main/chapter3/astroml_chapter3_The_Central_Limit_Theorem.ipynb\n",
    "* https://github.com/astroML/astroML_figures/blob/main/book_figures/chapter3/fig_clone_distribution.py"
   ]
  },
  {
   "cell_type": "markdown",
   "metadata": {},
   "source": [
    "## First let's just plot all the distributions we learned in class"
   ]
  },
  {
   "cell_type": "markdown",
   "metadata": {},
   "source": [
    "### Uniform"
   ]
  },
  {
   "cell_type": "code",
   "execution_count": null,
   "metadata": {},
   "outputs": [],
   "source": [
    "from scipy.stats import uniform\n",
    "import numpy as np\n",
    "import matplotlib.pylab as plt\n",
    "\n",
    "W_values = [1.0, 2.0, 3.0]\n",
    "linestyles = ['-', '--', ':']\n",
    "mu = 0\n",
    "x = np.linspace(-2, 2, 1000)"
   ]
  },
  {
   "cell_type": "code",
   "execution_count": null,
   "metadata": {},
   "outputs": [],
   "source": [
    "fig, ax = plt.subplots(figsize=(6, 4.5))\n",
    "\n",
    "for W, ls in zip(W_values, linestyles):\n",
    "    left = mu - 0.5 * W \n",
    "    dist = uniform(left, W)\n",
    "\n",
    "    plt.plot(x, dist.pdf(x), ls=ls, c='black',\n",
    "             label=r'$\\mu=%i,\\ W=%i$' % (mu, W))\n",
    "\n",
    "plt.xlim(-1.7, 1.7)\n",
    "plt.ylim(0, 1.2)\n",
    "\n",
    "plt.xlabel('$x$', fontsize = 12)\n",
    "plt.ylabel(r'$p(x|\\mu, W)$', fontsize = 12)\n",
    "plt.title('Uniform Distribution', fontsize = 12)\n",
    "\n",
    "plt.legend()"
   ]
  },
  {
   "cell_type": "markdown",
   "metadata": {},
   "source": [
    "### Gaussian"
   ]
  },
  {
   "cell_type": "code",
   "execution_count": null,
   "metadata": {},
   "outputs": [],
   "source": [
    "from scipy.stats import norm\n",
    "\n",
    "sigma_values = [0.5, 1.0, 2.0]\n",
    "linestyles = ['-', '--', ':']\n",
    "mu = 0\n",
    "x = np.linspace(-10, 10, 1000)"
   ]
  },
  {
   "cell_type": "code",
   "execution_count": null,
   "metadata": {},
   "outputs": [],
   "source": [
    "fig, ax = plt.subplots(figsize=(6, 4.5))\n",
    "\n",
    "for sigma, ls in zip(sigma_values, linestyles):\n",
    "    \n",
    "    dist = norm(mu, sigma)  # creates the gaussian distribution\n",
    "\n",
    "    plt.plot(x, dist.pdf(x), ls=ls, c='black',\n",
    "             label=r'$\\mu=%i,\\ \\sigma=%.1f$' % (mu, sigma)) # pdf calculated at x\n",
    "\n",
    "plt.xlim(-5, 5)\n",
    "plt.ylim(0, 0.85)\n",
    "\n",
    "plt.xlabel('$x$', fontsize = 12)\n",
    "plt.ylabel(r'$p(x|\\mu,\\sigma)$', fontsize = 12)\n",
    "plt.title('Gaussian Distribution', fontsize = 12)\n",
    "\n",
    "plt.legend()"
   ]
  },
  {
   "cell_type": "markdown",
   "metadata": {},
   "source": [
    "### Binomial"
   ]
  },
  {
   "cell_type": "code",
   "execution_count": null,
   "metadata": {},
   "outputs": [],
   "source": [
    "from scipy.stats import binom\n",
    "\n",
    "n_values = [20, 20, 40]\n",
    "b_values = [0.2, 0.6, 0.6]\n",
    "linestyles = ['-', '--', ':']\n",
    "k = np.arange(-1, 200)"
   ]
  },
  {
   "cell_type": "code",
   "execution_count": null,
   "metadata": {},
   "outputs": [],
   "source": [
    "fig, ax = plt.subplots(figsize=(6, 4.5))\n",
    "\n",
    "for (n, b, ls) in zip(n_values, b_values, linestyles):\n",
    "    \n",
    "    dist = binom(n, b) # creates a binomial distribution\n",
    "    plt.plot(k, dist.pmf(k), color='black',linestyle=ls, \n",
    "             # probability mass function (https://en.wikipedia.org/wiki/Probability_mass_function)\n",
    "             drawstyle= 'steps-mid', # this is to make it look like a histogram\n",
    "             label=r'$b=%.1f,\\ n=%i$' % (b, n))  # pmf calculated at x\n",
    "\n",
    "plt.xlim(-0.5, 35)\n",
    "plt.ylim(0, 0.25)\n",
    "\n",
    "plt.xlabel('$k$', fontsize = 12)\n",
    "plt.ylabel(r'$p(k|b, n)$', fontsize = 12)\n",
    "plt.title('Binomial Distribution', fontsize = 12)\n",
    "\n",
    "plt.legend()"
   ]
  },
  {
   "cell_type": "markdown",
   "metadata": {},
   "source": [
    "### Poisson"
   ]
  },
  {
   "cell_type": "code",
   "execution_count": null,
   "metadata": {},
   "outputs": [],
   "source": [
    "from scipy.stats import poisson\n",
    "\n",
    "k = np.arange(-1, 200)\n",
    "mu_values = [1, 5, 15]\n",
    "linestyles = ['-', '--', ':']"
   ]
  },
  {
   "cell_type": "code",
   "execution_count": null,
   "metadata": {},
   "outputs": [],
   "source": [
    "fig, ax = plt.subplots(figsize=(6, 4.5))\n",
    "\n",
    "for mu, ls in zip(mu_values, linestyles):\n",
    "    \n",
    "    dist = poisson(mu)\n",
    "\n",
    "    plt.plot(k, dist.pmf(k), color='black',\n",
    "             linestyle=ls,\n",
    "             drawstyle = 'steps-mid',\n",
    "             label=r'$\\mu=%i$' % mu)\n",
    "\n",
    "plt.xlim(-0.5, 30)\n",
    "plt.ylim(0, 0.4)\n",
    "\n",
    "plt.xlabel('$k$', fontsize = 12)\n",
    "plt.ylabel(r'$p(k|\\mu)$', fontsize = 12)\n",
    "plt.title('Poisson Distribution', fontsize = 12)\n",
    "\n",
    "plt.legend()"
   ]
  },
  {
   "cell_type": "markdown",
   "metadata": {},
   "source": [
    "### Cauchy (Lorentzian)"
   ]
  },
  {
   "cell_type": "code",
   "execution_count": null,
   "metadata": {},
   "outputs": [],
   "source": [
    "from scipy.stats import cauchy\n",
    "\n",
    "gamma_values = [0.5, 1.0, 2.0]\n",
    "linestyles = ['-', '--', ':']\n",
    "mu = 0\n",
    "x = np.linspace(-10, 10, 1000)"
   ]
  },
  {
   "cell_type": "code",
   "execution_count": null,
   "metadata": {},
   "outputs": [],
   "source": [
    "fig, ax = plt.subplots(figsize=(6, 4.5))\n",
    "\n",
    "for gamma, ls in zip(gamma_values, linestyles):\n",
    "    dist = cauchy(mu, gamma)\n",
    "\n",
    "    plt.plot(x, dist.pdf(x), ls=ls, color='black',\n",
    "             label=r'$\\mu=%i,\\ \\gamma=%.1f$' % (mu, gamma))\n",
    "\n",
    "plt.xlim(-4.5, 4.5)\n",
    "plt.ylim(0, 0.65)\n",
    "\n",
    "plt.xlabel('$x$', fontsize = 12)\n",
    "plt.ylabel(r'$p(x|\\mu,\\gamma)$', fontsize = 12)\n",
    "plt.title('Cauchy Distribution', fontsize = 12)\n",
    "\n",
    "plt.legend()"
   ]
  },
  {
   "cell_type": "markdown",
   "metadata": {},
   "source": [
    "### Laplace (exponential)"
   ]
  },
  {
   "cell_type": "code",
   "execution_count": null,
   "metadata": {},
   "outputs": [],
   "source": [
    "from scipy.stats import laplace\n",
    "\n",
    "delta_values = [0.5, 1.0, 2.0]\n",
    "linestyles = ['-', '--', ':']\n",
    "mu = 0\n",
    "x = np.linspace(-10, 10, 1000)"
   ]
  },
  {
   "cell_type": "code",
   "execution_count": null,
   "metadata": {},
   "outputs": [],
   "source": [
    "fig, ax = plt.subplots(figsize=(6, 4.5))\n",
    "\n",
    "for delta, ls in zip(delta_values, linestyles):\n",
    "    dist = laplace(mu, delta)\n",
    "\n",
    "    plt.plot(x, dist.pdf(x), ls=ls, c='black',\n",
    "             label=r'$\\mu=%i,\\ \\Delta=%.1f$' % (mu, delta))\n",
    "\n",
    "plt.xlim(-6, 6)\n",
    "plt.ylim(0, 1.0)\n",
    "\n",
    "plt.xlabel('$x$', fontsize = 12)\n",
    "plt.ylabel(r'$p(x|\\mu,\\Delta)$', fontsize = 12)\n",
    "plt.title('Laplace Distribution', fontsize = 12)\n",
    "\n",
    "plt.legend()"
   ]
  },
  {
   "cell_type": "code",
   "execution_count": null,
   "metadata": {},
   "outputs": [],
   "source": [
    "from scipy.stats import expon\n",
    "\n",
    "delta_values = [0.5, 1.0, 2.0]\n",
    "linestyles = ['-', '--', ':']\n",
    "mu = 0\n",
    "x = np.linspace(0, 10, 1000)[1:]"
   ]
  },
  {
   "cell_type": "code",
   "execution_count": null,
   "metadata": {},
   "outputs": [],
   "source": [
    "fig, ax = plt.subplots(figsize=(6, 4.5))\n",
    "\n",
    "for delta, ls in zip(delta_values, linestyles):\n",
    "    dist = laplace(mu, delta)\n",
    "\n",
    "    plt.plot(x, dist.pdf(x), ls=ls, c='black',\n",
    "             label=r'$\\mu=%i,\\ \\Delta=%.1f$' % (mu, delta))\n",
    "\n",
    "plt.xlim(0, 6)\n",
    "plt.ylim(0, 1.0)\n",
    "\n",
    "plt.xlabel('$x$', fontsize = 12)\n",
    "plt.ylabel(r'$p(x|\\mu,\\Delta)$', fontsize = 12)\n",
    "plt.title('Exponential Distribution', fontsize = 12)\n",
    "\n",
    "plt.legend()"
   ]
  },
  {
   "cell_type": "markdown",
   "metadata": {},
   "source": [
    "$\\chi^2$"
   ]
  },
  {
   "cell_type": "code",
   "execution_count": null,
   "metadata": {},
   "outputs": [],
   "source": [
    "from scipy.stats import chi2\n",
    "\n",
    "k_values = [1, 2, 5, 7]\n",
    "linestyles = ['-', '--', ':', '-.']\n",
    "mu = 0\n",
    "x = np.linspace(-1, 20, 1000)"
   ]
  },
  {
   "cell_type": "code",
   "execution_count": null,
   "metadata": {},
   "outputs": [],
   "source": [
    "fig, ax = plt.subplots(figsize=(6, 4.5))\n",
    "fig.subplots_adjust(bottom=0.12)\n",
    "\n",
    "for k, ls in zip(k_values, linestyles):\n",
    "    dist = chi2(k, mu)\n",
    "\n",
    "    plt.plot(x, dist.pdf(x), ls=ls, c='black',\n",
    "             label=r'$k=%i$' % k)\n",
    "\n",
    "plt.xlim(0, 10)\n",
    "plt.ylim(0, 0.5)\n",
    "\n",
    "plt.xlabel('$Q$', fontsize = 12)\n",
    "plt.ylabel(r'$p(Q|k)$', fontsize = 12)\n",
    "plt.title(r'$\\chi^2\\ \\mathrm{Distribution}$', fontsize = 12)\n",
    "\n",
    "plt.legend()"
   ]
  },
  {
   "cell_type": "markdown",
   "metadata": {},
   "source": [
    "### Student’s t"
   ]
  },
  {
   "cell_type": "code",
   "execution_count": null,
   "metadata": {},
   "outputs": [],
   "source": [
    "from scipy.stats import t as student_t\n",
    "\n",
    "mu = 0\n",
    "k_values = [1E10, 2, 1, 0.5]\n",
    "\n",
    "linestyles = ['-', '--', ':', '-.']\n",
    "x = np.linspace(-10, 10, 1000)"
   ]
  },
  {
   "cell_type": "code",
   "execution_count": null,
   "metadata": {},
   "outputs": [],
   "source": [
    "fig, ax = plt.subplots(figsize=(6, 4.5))\n",
    "\n",
    "for k, ls in zip(k_values, linestyles):\n",
    "    dist = student_t(k, 0)\n",
    "\n",
    "    if k >= 1E10:\n",
    "        label = r'$\\mathrm{t}(k=\\infty)$'\n",
    "    else:\n",
    "        label = r'$\\mathrm{t}(k=%.1f)$' % k\n",
    "\n",
    "    plt.plot(x, dist.pdf(x), ls=ls, c='black', label=label)\n",
    "\n",
    "plt.xlim(-5, 5)\n",
    "plt.ylim(0.0, 0.45)\n",
    "\n",
    "plt.xlabel('$x$', fontsize = 12)\n",
    "plt.ylabel(r'$p(x|k)$', fontsize = 12)\n",
    "plt.title(\"Student's $t$ Distribution\", fontsize = 12)\n",
    "\n",
    "plt.legend()"
   ]
  },
  {
   "cell_type": "markdown",
   "metadata": {},
   "source": [
    "### Fisher’s F"
   ]
  },
  {
   "cell_type": "code",
   "execution_count": null,
   "metadata": {},
   "outputs": [],
   "source": [
    "from scipy.stats import f as fisher_f\n",
    "\n",
    "mu = 0\n",
    "d1_values = [1, 5, 2, 10]\n",
    "d2_values = [1, 2, 5, 50]\n",
    "linestyles = ['-', '--', ':', '-.']\n",
    "x = np.linspace(0, 5, 1001)[1:]"
   ]
  },
  {
   "cell_type": "code",
   "execution_count": null,
   "metadata": {},
   "outputs": [],
   "source": [
    "fig, ax = plt.subplots(figsize=(6, 4.5))\n",
    "\n",
    "for (d1, d2, ls) in zip(d1_values, d2_values, linestyles):\n",
    "    dist = fisher_f(d1, d2, mu)\n",
    "\n",
    "    plt.plot(x, dist.pdf(x), ls=ls, c='black',\n",
    "             label=r'$d_1=%i,\\ d_2=%i$' % (d1, d2))\n",
    "\n",
    "plt.xlim(0, 4)\n",
    "plt.ylim(0.0, 1.0)\n",
    "\n",
    "plt.xlabel('$x$', fontsize = 12)\n",
    "plt.ylabel(r'$p(x|d_1, d_2)$', fontsize = 12)\n",
    "plt.title(\"Fisher's Distribution\", fontsize = 12)\n",
    "\n",
    "plt.legend()"
   ]
  },
  {
   "cell_type": "markdown",
   "metadata": {},
   "source": [
    "### Beta"
   ]
  },
  {
   "cell_type": "code",
   "execution_count": null,
   "metadata": {},
   "outputs": [],
   "source": [
    "from scipy.stats import beta\n",
    "\n",
    "alpha_values = [0.5, 1.5, 3.0, 0.5]\n",
    "beta_values = [0.5, 1.5, 3.0, 1.5]\n",
    "linestyles = ['-', '--', ':', '-.']\n",
    "x = np.linspace(0, 1, 1002)[1:-1]"
   ]
  },
  {
   "cell_type": "code",
   "execution_count": null,
   "metadata": {},
   "outputs": [],
   "source": [
    "fig, ax = plt.subplots(figsize=(6, 4.5))\n",
    "\n",
    "for a, b, ls in zip(alpha_values, beta_values, linestyles):\n",
    "    dist = beta(a, b)\n",
    "\n",
    "    plt.plot(x, dist.pdf(x), ls=ls, c='black',\n",
    "             label=r'$\\alpha=%.1f,\\ \\beta=%.1f$' % (a, b))\n",
    "\n",
    "plt.xlim(0, 1)\n",
    "plt.ylim(0, 3)\n",
    "\n",
    "plt.xlabel('$x$', fontsize = 12)\n",
    "plt.ylabel(r'$p(x|\\alpha,\\beta)$', fontsize = 12)\n",
    "plt.title('Beta Distribution', fontsize = 12)\n",
    "\n",
    "plt.legend(loc=0)"
   ]
  },
  {
   "cell_type": "markdown",
   "metadata": {},
   "source": [
    "### Gamma"
   ]
  },
  {
   "cell_type": "code",
   "execution_count": null,
   "metadata": {},
   "outputs": [],
   "source": [
    "from scipy.stats import gamma\n",
    "\n",
    "k_values = [1, 2, 3, 5]\n",
    "theta_values = [2, 1, 1, 0.5]\n",
    "linestyles = ['-', '--', ':', '-.']\n",
    "x = np.linspace(1E-6, 10, 1000)"
   ]
  },
  {
   "cell_type": "code",
   "execution_count": null,
   "metadata": {},
   "outputs": [],
   "source": [
    "fig, ax = plt.subplots(figsize=(6, 4.5))\n",
    "\n",
    "for k, t, ls in zip(k_values, theta_values, linestyles):\n",
    "    dist = gamma(k, 0, t) # zero is the location parameter\n",
    "    plt.plot(x, dist.pdf(x), ls=ls, c='black',\n",
    "             label=r'$k=%.1f,\\ \\theta=%.1f$' % (k, t))\n",
    "\n",
    "plt.xlim(0, 10)\n",
    "plt.ylim(0, 0.45)\n",
    "\n",
    "plt.xlabel('$x$', fontsize = 12)\n",
    "plt.ylabel(r'$p(x|k,\\theta)$', fontsize = 12)\n",
    "plt.title('Gamma Distribution', fontsize = 12)\n",
    "\n",
    "plt.legend(loc=0)"
   ]
  },
  {
   "cell_type": "markdown",
   "metadata": {},
   "source": [
    "### Weibull"
   ]
  },
  {
   "cell_type": "code",
   "execution_count": null,
   "metadata": {},
   "outputs": [],
   "source": [
    "from scipy.stats import weibull_min\n",
    "\n",
    "k_values = [0.5, 1, 2, 2]\n",
    "lam_values = [1, 1, 1, 2]\n",
    "linestyles = ['-', '--', ':', '-.', '--']\n",
    "mu = 0\n",
    "x = np.linspace(-10, 10, 1000)"
   ]
  },
  {
   "cell_type": "code",
   "execution_count": null,
   "metadata": {},
   "outputs": [],
   "source": [
    "fig, ax = plt.subplots(figsize=(6, 4.5))\n",
    "\n",
    "for (k, lam, ls) in zip(k_values, lam_values, linestyles):\n",
    "    dist = weibull_min(k, mu, lam)\n",
    "    plt.plot(x, dist.pdf(x), ls=ls, c='black',\n",
    "             label=r'$k=%.1f,\\ \\lambda=%i$' % (k, lam))\n",
    "\n",
    "plt.xlim(0, 5)\n",
    "plt.ylim(0, 1)\n",
    "\n",
    "plt.xlabel('$x$', fontsize = 12)\n",
    "plt.ylabel(r'$p(x|k,\\lambda)$', fontsize = 12)\n",
    "plt.title('Weibull Distribution', fontsize = 12)\n",
    "\n",
    "plt.legend()"
   ]
  },
  {
   "cell_type": "markdown",
   "metadata": {},
   "source": [
    "## Central Limit Theorem"
   ]
  },
  {
   "cell_type": "code",
   "execution_count": null,
   "metadata": {},
   "outputs": [],
   "source": [
    "# Generate the uniform samples\n",
    "N = [2, 3, 10]\n",
    "\n",
    "np.random.seed(42)\n",
    "x = np.random.random((max(N), int(1E6)))\n",
    "print(x.shape)"
   ]
  },
  {
   "cell_type": "code",
   "execution_count": null,
   "metadata": {},
   "outputs": [],
   "source": [
    "# Plot the results\n",
    "fig = plt.figure(figsize=(8, 8))\n",
    "fig.subplots_adjust(hspace=0.05)\n",
    "\n",
    "for i in range(len(N)):\n",
    "    ax = fig.add_subplot(3, 1, i + 1)\n",
    "\n",
    "    # take the mean of the first N[i] samples\n",
    "    x_i = x[:N[i], :].mean(0)\n",
    "\n",
    "    # histogram the data\n",
    "    ax.hist(x_i, bins=np.linspace(0, 1, 101),\n",
    "            histtype='stepfilled', alpha=0.5, density=True)\n",
    "\n",
    "    # plot the expected gaussian pdf\n",
    "    mu = 0.5\n",
    "    sigma = 1. / np.sqrt(12 * N[i]) # a uniform dist. has sigma 1/sqrt(12)\n",
    "    dist = norm(mu, sigma)\n",
    "    x_pdf = np.linspace(-0.5, 1.5, 1000)\n",
    "    ax.plot(x_pdf, dist.pdf(x_pdf), '-k')\n",
    "\n",
    "    ax.set_xlim(0.0, 1.0)\n",
    "    ax.set_ylim(0.001, None)\n",
    "\n",
    "    ax.xaxis.set_major_locator(plt.MultipleLocator(0.2))\n",
    "    ax.yaxis.set_major_locator(plt.MaxNLocator(5))\n",
    "\n",
    "    ax.text(0.99, 0.95, r\"$N = %i$\" % N[i],\n",
    "            ha='right', va='top', transform=ax.transAxes)\n",
    "\n",
    "    if i == len(N) - 1:\n",
    "        ax.xaxis.set_major_formatter(plt.FormatStrFormatter('%.4f'))\n",
    "        ax.set_xlabel(r'$x$', fontsize = 12)\n",
    "    else:\n",
    "        ax.xaxis.set_major_formatter(plt.NullFormatter())\n",
    "\n",
    "    ax.set_ylabel('$p(x)$', fontsize = 12)"
   ]
  },
  {
   "cell_type": "code",
   "execution_count": null,
   "metadata": {},
   "outputs": [],
   "source": [
    "# Generate the laplace samples\n",
    "N = [2, 10, 20]\n",
    "\n",
    "np.random.seed(42)\n",
    "x = np.random.laplace(0.5,(1/np.sqrt(12)),(max(N), int(1E6)))"
   ]
  },
  {
   "cell_type": "code",
   "execution_count": null,
   "metadata": {},
   "outputs": [],
   "source": [
    "# Plot the results\n",
    "fig = plt.figure(figsize=(8, 8))\n",
    "fig.subplots_adjust(hspace=0.05)\n",
    "\n",
    "for i in range(len(N)):\n",
    "    ax = fig.add_subplot(3, 1, i + 1)\n",
    "\n",
    "    # take the mean of the first N[i] samples\n",
    "    x_i = x[:N[i], :].mean(0)\n",
    "\n",
    "    # histogram the data\n",
    "    ax.hist(x_i, bins=np.linspace(0, 1, 101),\n",
    "            histtype='stepfilled', alpha=0.5, density=True)\n",
    "\n",
    "    # plot the expected gaussian pdf\n",
    "    mu = 0.5\n",
    "    sigma = (1/np.sqrt(12*N[i]))*np.sqrt(2)\n",
    "    dist = norm(mu, sigma)\n",
    "    x_pdf = np.linspace(-0.5, 1.5, 1000)\n",
    "    ax.plot(x_pdf, dist.pdf(x_pdf), '-k')\n",
    "\n",
    "    ax.set_xlim(0.0, 1.0)\n",
    "    ax.set_ylim(0.001, None)\n",
    "\n",
    "    ax.xaxis.set_major_locator(plt.MultipleLocator(0.2))\n",
    "    ax.yaxis.set_major_locator(plt.MaxNLocator(5))\n",
    "\n",
    "    ax.text(0.99, 0.95, r\"$N = %i$\" % N[i],\n",
    "            ha='right', va='top', transform=ax.transAxes)\n",
    "\n",
    "    if i == len(N) - 1:\n",
    "        ax.xaxis.set_major_formatter(plt.FormatStrFormatter('%.4f'))\n",
    "        ax.set_xlabel(r'$x$', fontsize = 12)\n",
    "    else:\n",
    "        ax.xaxis.set_major_formatter(plt.NullFormatter())\n",
    "\n",
    "    ax.set_ylabel('$p(x)$', fontsize = 12)"
   ]
  },
  {
   "cell_type": "markdown",
   "metadata": {},
   "source": [
    "## Next let's generate a random number from an arbitrary distribution (or, cloning a distribution)"
   ]
  },
  {
   "cell_type": "code",
   "execution_count": null,
   "metadata": {},
   "outputs": [],
   "source": [
    "from scipy import stats, interpolate\n",
    "from astropy.visualization import hist\n",
    "from astroML.density_estimation import EmpiricalDistribution\n",
    "\n",
    "#------------------------------------------------------------\n",
    "# Create a distribution and clone it\n",
    "Ndata = 1000\n",
    "Nclone = 100000\n",
    "np.random.seed(0)\n",
    "\n",
    "# generate an 'observed' bimodal distribution with 10000 values\n",
    "dists1 = stats.norm(-1.3, 0.5)\n",
    "fracs1 = 0.6\n",
    "dists2 = stats.norm(1.3, 0.5)\n",
    "fracs2 = 0.4\n",
    "\n",
    "x = np.hstack((dists1.rvs(int(fracs1 * Ndata)), dists2.rvs(int(fracs2 * Ndata))))\n",
    "plt.hist(x, bins=40)\n",
    "plt.xlabel('x')"
   ]
  },
  {
   "cell_type": "code",
   "execution_count": null,
   "metadata": {},
   "outputs": [],
   "source": [
    "# We can clone the distribution easily with this function\n",
    "x_cloned = EmpiricalDistribution(x).rvs(Nclone)\n",
    "\n",
    "plt.hist(x_cloned, bins=40)\n",
    "plt.xlabel('x_cloned')"
   ]
  },
  {
   "cell_type": "code",
   "execution_count": null,
   "metadata": {},
   "outputs": [],
   "source": [
    "# compute the KS test to check if they're the same\n",
    "D, p = stats.ks_2samp(x, x_cloned)\n",
    "print(\"KS test: D = %.2g; p = %.2g\" % (D, p))"
   ]
  },
  {
   "cell_type": "code",
   "execution_count": null,
   "metadata": {},
   "outputs": [],
   "source": [
    "# Now let's try to do the clone by hand\n",
    "\n",
    "# create a cumulative distribution\n",
    "x.sort()\n",
    "Px_cuml = np.linspace(0, 1, Ndata)\n",
    "\n",
    "# this gives you the CDF\n",
    "plt.figure(figsize=(15,3))\n",
    "plt.plot(x, Px_cuml, marker='o', markersize=0.5, lw=0.2)\n",
    "plt.ylabel('regular grid from 0 to 1')\n",
    "plt.xlabel('sorted x')"
   ]
  },
  {
   "cell_type": "code",
   "execution_count": null,
   "metadata": {},
   "outputs": [],
   "source": [
    "# rotate and sample from the axis between 0 and 1\n",
    "\n",
    "plt.figure(figsize=(15,3))\n",
    "plt.plot(Px_cuml, x, marker='o', markersize=0.2, lw=0.2)\n",
    "plt.xlabel('regular grid from 0 to 1')\n",
    "plt.ylabel('sorted x')"
   ]
  },
  {
   "cell_type": "code",
   "execution_count": null,
   "metadata": {},
   "outputs": [],
   "source": [
    "# set up an interpolation of the inverse cumulative distribution\n",
    "tck = interpolate.splrep(Px_cuml, x)\n",
    "\n",
    "# sample evenly along the cumulative distribution, and interpolate\n",
    "Px_cuml_sample = np.linspace(0, 1, 10 * Ndata)\n",
    "x_sample = interpolate.splev(Px_cuml_sample, tck)\n"
   ]
  },
  {
   "cell_type": "code",
   "execution_count": null,
   "metadata": {},
   "outputs": [],
   "source": [
    "# play with the bins option\n",
    "hist(x, bins='knuth', \n",
    "     histtype='stepfilled', density=True,\n",
    "     ec='#AAAAAA', fc='#DDDDDD',\n",
    "     label='input data')\n",
    "hist(x_sample, bins='knuth', \n",
    "     histtype='step', density=True,\n",
    "     color='k', label='cloned data')\n",
    "plt.legend()\n",
    "plt.xlabel('x')"
   ]
  },
  {
   "cell_type": "code",
   "execution_count": null,
   "metadata": {},
   "outputs": [],
   "source": [
    "# Plot the cloned distribution and the procedure for obtaining it\n",
    "fig = plt.figure(figsize=(5, 5))\n",
    "fig.subplots_adjust(hspace=0.3, left=0.1, right=0.95,\n",
    "                    bottom=0.08, top=0.92, wspace=0.3)\n",
    "\n",
    "indices = np.linspace(0, Ndata - 1, 20).astype(int)\n",
    "\n",
    "# plot a histogram of the input\n",
    "ax = fig.add_subplot(221)\n",
    "hist(x, bins='knuth', ax=ax,\n",
    "     histtype='stepfilled', ec='k', fc='#AAAAAA')\n",
    "ax.set_ylim(0, 300)\n",
    "ax.set_title('Input data distribution')\n",
    "ax.set_xlabel('$x$')\n",
    "ax.set_ylabel('$N(x)$')\n",
    "\n",
    "# plot the cumulative distribution\n",
    "ax = fig.add_subplot(222)\n",
    "ax.scatter(x[indices], Px_cuml[indices], lw=0, c='k', s=9)\n",
    "ax.plot(x, Px_cuml, '-k')\n",
    "ax.set_xlim(-3, 3)\n",
    "ax.set_ylim(-0.05, 1.05)\n",
    "ax.set_title('Cumulative Distribution')\n",
    "ax.set_xlabel('$x$')\n",
    "ax.set_ylabel('$p(<x)$')\n",
    "\n",
    "# plot the inverse cumulative distribution and spline fit\n",
    "ax = fig.add_subplot(223)\n",
    "ax.scatter(Px_cuml[indices], x[indices], lw=0, c='k', s=9)\n",
    "ax.plot(Px_cuml_sample, x_sample, '-k')\n",
    "ax.arrow(0.7, -3, 0, 3.5, width=0.015, fc='gray', ec='gray',\n",
    "         head_width=0.05, head_length=0.4)\n",
    "ax.arrow(0.7, 0.9, -0.69, 0, width=0.1, fc='gray', ec='gray',\n",
    "         head_width=0.3, head_length=0.06)\n",
    "ax.set_xlim(-0.05, 1.05)\n",
    "ax.set_ylim(-3, 3)\n",
    "ax.set_title('Inverse Cuml. Distribution')\n",
    "ax.set_xlabel('$p(<x)$')\n",
    "ax.set_ylabel('$x$')\n",
    "\n",
    "# plot the resulting cloned distribution\n",
    "ax = fig.add_subplot(224)\n",
    "hist(x, bins='knuth', ax=ax,\n",
    "     histtype='stepfilled', density=True,\n",
    "     ec='#AAAAAA', fc='#DDDDDD',\n",
    "     label='input data')\n",
    "hist(x_sample, bins='knuth', ax=ax,\n",
    "     histtype='step', density=True,\n",
    "     color='k', label='cloned data')\n",
    "ax.set_title('Cloned Distribution')\n",
    "ax.set_xlabel('$x$')\n",
    "ax.set_ylabel('$p(x)dx$')\n",
    "ax.text(0.74, 0.95, \"KS test:\\nD = %.2f\\np = %.2f\" % (D, p),\n",
    "        ha='left', va='top', transform=ax.transAxes)"
   ]
  },
  {
   "cell_type": "code",
   "execution_count": null,
   "metadata": {},
   "outputs": [],
   "source": []
  }
 ],
 "metadata": {
  "kernelspec": {
   "display_name": "astr340",
   "language": "python",
   "name": "astr340"
  },
  "language_info": {
   "codemirror_mode": {
    "name": "ipython",
    "version": 3
   },
   "file_extension": ".py",
   "mimetype": "text/x-python",
   "name": "python",
   "nbconvert_exporter": "python",
   "pygments_lexer": "ipython3",
   "version": "3.9.21"
  }
 },
 "nbformat": 4,
 "nbformat_minor": 4
}
