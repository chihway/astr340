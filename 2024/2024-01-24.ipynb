{
 "cells": [
  {
   "cell_type": "markdown",
   "metadata": {},
   "source": [
    "# In-class notebook: 2024-01-24\n",
    "\n",
    "In this notebook, we will review some basic terminologies in Bayesian statistics for a simple example. We will then look at the odds ratio for a coin-toss example.\n",
    "\n",
    "This notebook is intended to support Chapter 5.1-5.4 of the textbook, and material is taken from the following scripts (from astroML):\n",
    "* https://github.com/astroML/astroML-notebooks/blob/main/chapter5/astroml_chapter5_Hierarchical_Bayes.ipynb\n",
    "* https://github.com/astroML/astroML_figures/blob/main/book_figures/chapter5/fig_odds_ratio_coin.py"
   ]
  },
  {
   "cell_type": "markdown",
   "metadata": {},
   "source": [
    "## Simple case of Gaussian prior and likelihood"
   ]
  },
  {
   "cell_type": "code",
   "execution_count": null,
   "metadata": {},
   "outputs": [],
   "source": [
    "%matplotlib inline\n",
    "\n",
    "import numpy as np\n",
    "from matplotlib import pyplot as plt\n",
    "from scipy.stats import norm"
   ]
  },
  {
   "cell_type": "code",
   "execution_count": null,
   "metadata": {},
   "outputs": [],
   "source": [
    "\n",
    "# specify the likelihood\n",
    "x = 0.7 \n",
    "e = 0.2\n",
    "\n",
    "# specify the prior\n",
    "mu0 = 1.4\n",
    "sigma0 = 0.3 \n",
    "\n",
    "muGrid = np.linspace(0,3,1000)\n",
    "n1 = norm(x, e).pdf(muGrid)           # likelihood\n",
    "n2 = norm(mu0, sigma0).pdf(muGrid)    # prior\n",
    "P = n1 * n2                           # this is then the (unnormalized) posterior\n",
    "\n",
    "# need to properly normalize P to make it pdf \n",
    "from scipy.integrate import simps\n",
    "\n",
    "P = P/simps(P, muGrid)\n",
    "\n",
    "# plot\n",
    "fig, ax = plt.subplots(figsize=(7, 5))\n",
    "plt.plot(muGrid, n1, ls='-', c='green', label=r'measurement')\n",
    "plt.plot(muGrid, n2, ls='-', c='black', label=r'prior')\n",
    "plt.plot(muGrid, P, ls='-', c='blue', label=r'direct product')\n",
    "\n",
    "plt.xlim(0.0, 2.5)\n",
    "plt.ylim(0, 3.0)\n",
    "plt.xlabel('$\\mu$')\n",
    "plt.ylabel(r'$p(x_i|\\mu,\\sigma)$')\n",
    "plt.title('Gaussian prior and Gaussian Likelihood')\n",
    "plt.legend()\n",
    "\n",
    "# note that this is the case of conjugate prior: both prior and posterior pdfs are gaussian\n"
   ]
  },
  {
   "cell_type": "code",
   "execution_count": null,
   "metadata": {},
   "outputs": [],
   "source": [
    "# compute mu_p and sigma_p and compare to direct multiplication of n1 and n2\n",
    "sigma_p = 1/np.sqrt(1/e**2+1/sigma0**2)\n",
    "mu_p = (x/e**2 + mu0/sigma0**2)*sigma_p**2\n",
    "posterior = norm(mu_p, sigma_p).pdf(muGrid) \n",
    "\n",
    "fig, ax = plt.subplots(figsize=(7, 5))\n",
    "plt.plot(muGrid, P, ls='-', c='blue', label=r'direct product')\n",
    "plt.plot(muGrid, posterior, ls='--', c='red', label=r'posterior')\n",
    "\n",
    "plt.xlim(0.0, 2.5)\n",
    "plt.ylim(0, 3.0)\n",
    "plt.xlabel('$\\mu$')\n",
    "plt.ylabel(r'$p(x_i|\\mu,\\sigma)$')\n",
    "plt.title('Gaussian prior and Gaussian Likelihood')\n",
    "plt.legend()\n"
   ]
  },
  {
   "cell_type": "markdown",
   "metadata": {},
   "source": [
    "## Odds ratio\n",
    "\n",
    "Odds ratio for two models, $O_{21}$, describing coin tosses. We toss the coin N times and find k tosses are heads.\n",
    "* Model 1: we a priori known heads probability equal to $b_*$\n",
    "* Model 2: the probability of heads is unknown, with uniform prior 0-1\n",
    "\n",
    "We look at two values of $b_*$. Note that the odds ratio is minimized and below 1 (model 1 wins) when $k = b_* N$."
   ]
  },
  {
   "cell_type": "code",
   "execution_count": null,
   "metadata": {},
   "outputs": [],
   "source": [
    "from scipy import integrate\n",
    "\n",
    "@np.vectorize\n",
    "def odds_ratio(n, k, bstar):\n",
    "    \"\"\"Odds ratio between M_2, where the heads probability is unknown,\n",
    "    and M_1, where the heads probability is known to be `bstar`, evaluated\n",
    "    in the case of `k` heads observed in `n` tosses.\n",
    "\n",
    "    Eqn. 5.25 in the text\n",
    "    \"\"\"\n",
    "    factor = 1. / (bstar ** k * (1 - bstar) ** (n - k))\n",
    "    f = lambda b: b ** k * (1 - b) ** (n - k)\n",
    "\n",
    "    return factor * integrate.quad(f, 0, 1)[0]\n",
    "\n",
    "#------------------------------------------------------------\n",
    "# Plot the results\n",
    "fig = plt.figure(figsize=(5, 2.5))\n",
    "fig.subplots_adjust(left=0.13, right=0.95, wspace=0.05, bottom=0.15)\n",
    "\n",
    "subplots = [121, 122]\n",
    "n_array = [10, 20]\n",
    "\n",
    "linestyles = ['-k', '--b']\n",
    "bstar_array = [0.5, 0.1]\n",
    "\n",
    "for subplot, n in zip(subplots, n_array):\n",
    "    ax = fig.add_subplot(subplot, yscale='log')\n",
    "    k = np.arange(n + 1)\n",
    "\n",
    "    # plot curves for two values of bstar\n",
    "    for ls, bstar in zip(linestyles, bstar_array):\n",
    "        ax.plot(k, odds_ratio(n, k, bstar), ls,\n",
    "                label=r'$b^* = %.1f$' % bstar)\n",
    "\n",
    "    if subplot == 121:\n",
    "        ax.set_xlim(0, n - 0.01)\n",
    "        ax.set_ylabel(r'$O_{21}$')\n",
    "        ax.legend(loc=2)\n",
    "    else:\n",
    "        ax.set_xlim(0, n)\n",
    "        ax.yaxis.set_major_formatter(plt.NullFormatter())\n",
    "\n",
    "    ax.set_xlabel('$k$')\n",
    "    ax.set_title('$n = %i$' % n)\n",
    "    ax.set_ylim(8E-2, 1E3)\n",
    "    ax.xaxis.set_major_locator(plt.MultipleLocator(n / 5))\n",
    "    ax.grid()\n"
   ]
  },
  {
   "cell_type": "code",
   "execution_count": null,
   "metadata": {},
   "outputs": [],
   "source": [
    "#------------------------------------------------------------\n",
    "# Plot the results\n",
    "fig = plt.figure(figsize=(5, 2.5))\n",
    "fig.subplots_adjust(left=0.13, right=0.95, wspace=0.05, bottom=0.15)\n",
    "\n",
    "subplots = [121, 122]\n",
    "n_array = [10, 500]\n",
    "\n",
    "linestyles = ['-k', '--b']\n",
    "bstar_array = [0.5, 0.1]\n",
    "\n",
    "for subplot, n in zip(subplots, n_array):\n",
    "    ax = fig.add_subplot(subplot, yscale='log')\n",
    "    k = np.arange(n + 1)\n",
    "\n",
    "    # plot curves for two values of bstar\n",
    "    for ls, bstar in zip(linestyles, bstar_array):\n",
    "        ax.plot(k, odds_ratio(n, k, bstar), ls,\n",
    "                label=r'$b^* = %.1f$' % bstar)\n",
    "\n",
    "    if subplot == 121:\n",
    "        ax.set_xlim(0, n - 0.01)\n",
    "        ax.set_ylabel(r'$O_{21}$')\n",
    "        ax.legend(loc=2)\n",
    "    else:\n",
    "        ax.set_xlim(0, n)\n",
    "        ax.yaxis.set_major_formatter(plt.NullFormatter())\n",
    "\n",
    "    ax.set_xlabel('$k$')\n",
    "    ax.set_title('$n = %i$' % n)\n",
    "    ax.set_ylim(8E-2, 1E3)\n",
    "    ax.xaxis.set_major_locator(plt.MultipleLocator(n / 5))\n",
    "    ax.grid()\n"
   ]
  },
  {
   "cell_type": "code",
   "execution_count": null,
   "metadata": {},
   "outputs": [],
   "source": []
  }
 ],
 "metadata": {
  "kernelspec": {
   "display_name": "astr340",
   "language": "python",
   "name": "astr340"
  },
  "language_info": {
   "codemirror_mode": {
    "name": "ipython",
    "version": 3
   },
   "file_extension": ".py",
   "mimetype": "text/x-python",
   "name": "python",
   "nbconvert_exporter": "python",
   "pygments_lexer": "ipython3",
   "version": "3.9.18"
  }
 },
 "nbformat": 4,
 "nbformat_minor": 4
}
