{
 "cells": [
  {
   "cell_type": "markdown",
   "metadata": {},
   "source": [
    "# In-class notebook: 2024-01-24\n",
    "\n",
    "In this notebook, we will review some basic terminologies in Bayesian statistics for a simple example. \n",
    "\n",
    "This notebook is intended to support Chapter 5.1 of the textbook, and material is taken from the following scripts (from astroML):\n",
    "* https://github.com/astroML/astroML-notebooks/blob/main/chapter5/astroml_chapter5_Hierarchical_Bayes.ipynb\n"
   ]
  },
  {
   "cell_type": "markdown",
   "metadata": {},
   "source": [
    "## Simple case of Gaussian prior and likelihood"
   ]
  },
  {
   "cell_type": "code",
   "execution_count": null,
   "metadata": {},
   "outputs": [],
   "source": [
    "%matplotlib inline\n",
    "\n",
    "import numpy as np\n",
    "from matplotlib import pyplot as plt\n",
    "from scipy.stats import norm"
   ]
  },
  {
   "cell_type": "code",
   "execution_count": null,
   "metadata": {},
   "outputs": [],
   "source": [
    "\n",
    "# specify the likelihood\n",
    "x = 0.7 \n",
    "e = 0.2\n",
    "\n",
    "# specify the prior\n",
    "mu0 = 1.4\n",
    "sigma0 = 0.3 \n",
    "\n",
    "muGrid = np.linspace(0,3,1000)\n",
    "n1 = norm(x, e).pdf(muGrid)           # likelihood\n",
    "n2 = norm(mu0, sigma0).pdf(muGrid)    # prior\n",
    "P = n1 * n2                           # this is then the (unnormalized) posterior\n",
    "\n",
    "# need to properly normalize P to make it pdf \n",
    "from scipy.integrate import simps\n",
    "\n",
    "P = P/simps(P, muGrid)\n",
    "\n",
    "# plot\n",
    "fig, ax = plt.subplots(figsize=(6, 4))\n",
    "plt.plot(muGrid, n1, ls='-', c='green', label=r'measurement')\n",
    "plt.plot(muGrid, n2, ls='-', c='black', label=r'prior')\n",
    "plt.plot(muGrid, P, ls='-', c='blue', label=r'direct product')\n",
    "\n",
    "plt.xlim(0.0, 2.5)\n",
    "plt.ylim(0, 3.0)\n",
    "plt.xlabel('$\\mu$')\n",
    "plt.ylabel(r'$p(x_i|\\mu,\\sigma)$')\n",
    "plt.title('Gaussian prior and Gaussian Likelihood')\n",
    "plt.legend()\n",
    "\n",
    "# note that this is the case of conjugate prior: both prior and posterior pdfs are gaussian\n"
   ]
  },
  {
   "cell_type": "code",
   "execution_count": null,
   "metadata": {},
   "outputs": [],
   "source": [
    "# compute mu_p and sigma_p and compare to direct multiplication of n1 and n2\n",
    "sigma_p = 1/np.sqrt(1/e**2+1/sigma0**2)\n",
    "mu_p = (x/e**2 + mu0/sigma0**2)*sigma_p**2\n",
    "posterior = norm(mu_p, sigma_p).pdf(muGrid) \n",
    "\n",
    "fig, ax = plt.subplots(figsize=(6, 4))\n",
    "plt.plot(muGrid, P, ls='-', c='blue', label=r'direct product')\n",
    "plt.plot(muGrid, posterior, ls='--', c='red', label=r'posterior')\n",
    "\n",
    "plt.xlim(0.0, 2.5)\n",
    "plt.ylim(0, 3.0)\n",
    "plt.xlabel('$\\mu$')\n",
    "plt.ylabel(r'$p(x_i|\\mu,\\sigma)$')\n",
    "plt.title('Gaussian prior and Gaussian Likelihood')\n",
    "plt.legend()\n"
   ]
  },
  {
   "cell_type": "code",
   "execution_count": null,
   "metadata": {},
   "outputs": [],
   "source": []
  }
 ],
 "metadata": {
  "kernelspec": {
   "display_name": "astr340",
   "language": "python",
   "name": "astr340"
  },
  "language_info": {
   "codemirror_mode": {
    "name": "ipython",
    "version": 3
   },
   "file_extension": ".py",
   "mimetype": "text/x-python",
   "name": "python",
   "nbconvert_exporter": "python",
   "pygments_lexer": "ipython3",
   "version": "3.9.18"
  }
 },
 "nbformat": 4,
 "nbformat_minor": 4
}
