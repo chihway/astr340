{
 "cells": [
  {
   "cell_type": "markdown",
   "id": "769adccd-c91d-442a-bc98-60dc9e647ac7",
   "metadata": {},
   "source": [
    "# In-class notebook: 2024-01-03\n",
    "\n",
    "In this notebook, we will get familiar with the basics function related to downloading SDSS data using astroML, some basic plotting techniques, as well as some implementations of using trees to speed up calculations.\n",
    "\n",
    "This notebook is intended to support Chapter 1-2 of the textbook, and material is taken from the following scripts (from astroML):\n",
    "* https://github.com/astroML/astroML_figures/blob/main/book_figures/chapter1/fig_SDSS_imaging.py\n",
    "* https://github.com/astroML/astroML_figures/blob/main/book_figures/chapter1/fig_sdss_S82standards.py\n",
    "* https://github.com/astroML/astroML_figures/blob/main/book_figures/chapter1/fig_S82_scatter_contour.py\n",
    "* https://github.com/astroML/astroML_figures/blob/main/book_figures/chapter1/fig_S82_hess.py\n",
    "* https://github.com/astroML/astroML_figures/blob/main/book_figures/chapter1/fig_sdss_spectrum.py\n",
    "* https://github.com/astroML/astroML_figures/blob/main/book_figures/chapter2/fig_kdtree_example.py\n",
    "* https://github.com/astroML/astroML_figures/blob/main/book_figures/chapter2/fig_balltree_example.py"
   ]
  },
  {
   "cell_type": "code",
   "execution_count": null,
   "id": "3e3ad357-d4a3-4007-a4eb-3179c5c32f8e",
   "metadata": {},
   "outputs": [],
   "source": [
    "# import basic stuff\n",
    "import numpy as np\n",
    "from matplotlib import pyplot as plt"
   ]
  },
  {
   "cell_type": "markdown",
   "id": "3e2f2357-6fee-49fc-a798-30bc1d969f0b",
   "metadata": {},
   "source": [
    "## Download the SDSS imaging data and make some plots of the photometry for stars and galaxies"
   ]
  },
  {
   "cell_type": "code",
   "execution_count": null,
   "id": "2d99f7d3-d23b-46aa-82ec-4f6f4a93a32e",
   "metadata": {},
   "outputs": [],
   "source": [
    "from astroML.datasets import fetch_imaging_sample\n",
    "\n",
    "Nstars = 5000\n",
    "Ngals = 5000\n",
    "\n",
    "data = fetch_imaging_sample()\n",
    "# you can see what this is doing here https://github.com/astroML/astroML/blob/main/astroML/datasets/imaging_sample.py\n",
    "# check where the files were downloaded? \n",
    "\n",
    "print('total object counts', len(data))\n",
    "\n",
    "# object type 6 is stars and 3 is galaxies\n",
    "objtype = data['type']\n",
    "stars = data[objtype == 6][:Nstars]\n",
    "galaxies = data[objtype == 3][:Ngals]"
   ]
  },
  {
   "cell_type": "code",
   "execution_count": null,
   "id": "5d211ee8-dc24-4d93-9a28-b11cf518e0d9",
   "metadata": {},
   "outputs": [],
   "source": [
    "# print the column names for both stars and galaxies\n",
    "print(stars.dtype.names)"
   ]
  },
  {
   "cell_type": "markdown",
   "id": "d6271569-6521-4bd8-98bf-0e6e4d4d2f2c",
   "metadata": {},
   "source": [
    "### Any idea what these columns are? \n",
    "\n",
    "You can read the schema to find out what is what - https://skyserver.sdss.org/dr7/en/help/browser/browser.asp"
   ]
  },
  {
   "cell_type": "markdown",
   "id": "4b34790b-c77a-450b-8341-0c75d9fb3a88",
   "metadata": {},
   "source": [
    "### Now plot"
   ]
  },
  {
   "cell_type": "code",
   "execution_count": null,
   "id": "03aa4ae3-51c1-450a-b45b-82c5bc631793",
   "metadata": {},
   "outputs": [],
   "source": [
    "plot_kwargs = dict(color='k', linestyle='none', marker=',')\n",
    "\n",
    "fig = plt.figure(figsize=(5, 3.75))\n",
    "\n",
    "ax1 = fig.add_subplot(221)\n",
    "ax1.plot(galaxies['gRaw'] - galaxies['rRaw'],\n",
    "         galaxies['rRaw'],\n",
    "         **plot_kwargs)\n",
    "\n",
    "ax2 = fig.add_subplot(223, sharex=ax1)\n",
    "ax2.plot(galaxies['gRaw'] - galaxies['rRaw'],\n",
    "         galaxies['rRaw'] - galaxies['iRaw'],\n",
    "         **plot_kwargs)\n",
    "\n",
    "ax3 = fig.add_subplot(222, sharey=ax1)\n",
    "ax3.plot(stars['gRaw'] - stars['rRaw'],\n",
    "         stars['rRaw'],\n",
    "         **plot_kwargs)\n",
    "\n",
    "ax4 = fig.add_subplot(224, sharex=ax3, sharey=ax2)\n",
    "ax4.plot(stars['gRaw'] - stars['rRaw'],\n",
    "         stars['rRaw'] - stars['iRaw'],\n",
    "         **plot_kwargs)\n",
    "\n",
    "# set labels and titles\n",
    "ax1.set_ylabel(r'${\\rm r}$')\n",
    "ax2.set_ylabel(r'${\\rm r - i}$')\n",
    "ax2.set_xlabel(r'${\\rm g - r}$')\n",
    "ax4.set_xlabel(r'${\\rm g - r}$')\n",
    "ax1.set_title('Galaxies')\n",
    "ax3.set_title('Stars')\n",
    "\n",
    "# set axis limits\n",
    "ax2.set_xlim(-1, 3)\n",
    "ax3.set_ylim(22.5, 14)\n",
    "ax4.set_xlim(-1, 3)\n",
    "ax4.set_ylim(-1, 2)\n",
    "\n",
    "# adjust tick spacings on all axes\n",
    "for ax in (ax1, ax2, ax3, ax4):\n",
    "    ax.xaxis.set_major_locator(plt.MultipleLocator(1))\n",
    "    ax.yaxis.set_major_locator(plt.MultipleLocator(1))"
   ]
  },
  {
   "cell_type": "markdown",
   "id": "79d19355-8662-41e7-ab2c-33f77ebb3d4b",
   "metadata": {},
   "source": [
    "### What do we see here?\n",
    "\n",
    "Discuss with your neighors. Make different plots if you need to justify your theory.\n",
    "\n",
    "* selection in r band\n",
    "* issue with scatter plots"
   ]
  },
  {
   "cell_type": "markdown",
   "id": "4f2f374c-4363-4a50-9f94-6b89a949aa9b",
   "metadata": {},
   "source": [
    "## Download a set of SDSS standard stars and plot its color-color diagram"
   ]
  },
  {
   "cell_type": "code",
   "execution_count": null,
   "id": "48d1b187-9fff-45f3-8fe8-4e682f21517a",
   "metadata": {},
   "outputs": [],
   "source": [
    "from astroML.datasets import fetch_sdss_S82standards\n",
    "\n",
    "# Fetch the stripe 82 data (see https://github.com/astroML/astroML/blob/main/astroML/datasets/sdss_S82standards.py)\n",
    "data = fetch_sdss_S82standards()\n",
    "\n",
    "# select the first 10000 points\n",
    "data = data[:10000]\n",
    "\n",
    "# select the mean magnitudes for g, r, i\n",
    "g = data['mmu_g']\n",
    "r = data['mmu_r']\n",
    "i = data['mmu_i']"
   ]
  },
  {
   "cell_type": "markdown",
   "id": "4c3ebe52-9498-446c-bd02-a58aa70f7487",
   "metadata": {},
   "source": [
    "### Plot"
   ]
  },
  {
   "cell_type": "code",
   "execution_count": null,
   "id": "d417a270-fdc2-4978-a19c-4657e6e7c843",
   "metadata": {},
   "outputs": [],
   "source": [
    "# Plot the g-r vs r-i colors\n",
    "fig, ax = plt.subplots(figsize=(5, 3.75))\n",
    "ax.plot(g - r, r - i, marker='.', markersize=2,\n",
    "        color='black', linestyle='none')\n",
    "\n",
    "ax.set_xlim(-0.6, 2.0)\n",
    "ax.set_ylim(-0.6, 2.5)\n",
    "\n",
    "ax.set_xlabel(r'${\\rm g - r}$')\n",
    "ax.set_ylabel(r'${\\rm r - i}$')"
   ]
  },
  {
   "cell_type": "markdown",
   "id": "71f3f817-8dc4-4981-a1fe-4bf4d95149eb",
   "metadata": {},
   "source": [
    "### What do we see here?\n",
    "\n",
    "Discuss with your neighbors.\n",
    "\n",
    "* More precise photometry\n",
    "* The region with the highest point density is dominated by main sequence stars. The thin extension toward the lower-left\n",
    "corner is dominated by the so-called blue horizontal branch stars and white dwarf stars."
   ]
  },
  {
   "cell_type": "markdown",
   "id": "c4f9e867-f6f0-4c47-beb7-2c895a72711a",
   "metadata": {},
   "source": [
    "### We can plot it differently, with more points: contours and Hess"
   ]
  },
  {
   "cell_type": "code",
   "execution_count": null,
   "id": "bf4aea3d-da2b-4b24-ae12-b12cb157af47",
   "metadata": {},
   "outputs": [],
   "source": [
    "# Fetch the stripe 82 data (see https://github.com/astroML/astroML/blob/main/astroML/datasets/sdss_S82standards.py)\n",
    "data = fetch_sdss_S82standards()\n",
    "\n",
    "# select the mean magnitudes for g, r, i\n",
    "g = data['mmu_g']\n",
    "r = data['mmu_r']\n",
    "i = data['mmu_i']"
   ]
  },
  {
   "cell_type": "code",
   "execution_count": null,
   "id": "acb98186-8241-4d91-bb36-6aae01d65029",
   "metadata": {},
   "outputs": [],
   "source": [
    "from astroML.plotting import scatter_contour\n",
    "\n",
    "fig, ax = plt.subplots(figsize=(5, 3.75))\n",
    "scatter_contour(g - r, r - i, threshold=200, log_counts=True, ax=ax,\n",
    "                histogram2d_args=dict(bins=40),\n",
    "                plot_args=dict(marker=',', linestyle='none', color='black'),\n",
    "                contour_args=dict(cmap=plt.cm.bone))\n",
    "\n",
    "ax.set_xlabel(r'${\\rm g - r}$')\n",
    "ax.set_ylabel(r'${\\rm r - i}$')\n",
    "\n",
    "ax.set_xlim(-0.6, 2.5)\n",
    "ax.set_ylim(-0.6, 2.5)\n"
   ]
  },
  {
   "cell_type": "code",
   "execution_count": null,
   "id": "f9832684-7c64-4f34-a937-021a2fda2454",
   "metadata": {},
   "outputs": [],
   "source": [
    "import copy\n",
    "\n",
    "# Compute and plot the 2D histogram\n",
    "H, xbins, ybins = np.histogram2d(g - r, r - i,\n",
    "                                 bins=(np.linspace(-0.5, 2.5, 50),\n",
    "                                       np.linspace(-0.5, 2.5, 50)))\n",
    "\n",
    "# Create a black and white color map where bad data (NaNs) are white\n",
    "cmap = copy.copy(plt.cm.get_cmap('binary'))\n",
    "cmap.set_bad('w', 1.)\n",
    "\n",
    "# Use the image display function imshow() to plot the result\n",
    "fig, ax = plt.subplots(figsize=(5, 3.75))\n",
    "H[H == 0] = 1  # prevent warnings in log10\n",
    "ax.imshow(np.log10(H).T, origin='lower',\n",
    "          extent=[xbins[0], xbins[-1], ybins[0], ybins[-1]],\n",
    "          cmap=cmap, interpolation='nearest',\n",
    "          aspect='auto')\n",
    "\n",
    "ax.set_xlabel(r'${\\rm g - r}$')\n",
    "ax.set_ylabel(r'${\\rm r - i}$')\n",
    "\n",
    "ax.set_xlim(-0.6, 2.5)\n",
    "ax.set_ylim(-0.6, 2.5)"
   ]
  },
  {
   "cell_type": "markdown",
   "id": "6c3516ea-8103-4402-a1fd-fe48a8501b6f",
   "metadata": {},
   "source": [
    "## We can also download SDSS spectra and plot them"
   ]
  },
  {
   "cell_type": "code",
   "execution_count": null,
   "id": "76e368b8-6ba5-458c-aa11-0bb2ade5704a",
   "metadata": {},
   "outputs": [],
   "source": [
    "from astroML.datasets import fetch_sdss_spectrum\n",
    "\n",
    "# Fetch single spectrum, you can find these unique identifiers using e.g. fetch_sdss_specgals https://github.com/astroML/astroML/blob/main/astroML/datasets/sdss_specgals.py\n",
    "plate = 1615\n",
    "mjd = 53166\n",
    "fiber = 513\n",
    "\n",
    "spec = fetch_sdss_spectrum(plate, mjd, fiber)\n",
    "\n",
    "#------------------------------------------------------------\n",
    "# Plot the resulting spectrum\n",
    "fig, ax = plt.subplots(figsize=(5, 3.75))\n",
    "ax.plot(spec.wavelength(), spec.spectrum, '-k', lw=1)\n",
    "\n",
    "ax.set_xlim(3000, 10000)\n",
    "ax.set_ylim(25, 300)\n",
    "\n",
    "ax.set_xlabel(r'$\\lambda {(\\rm \\AA)}$')\n",
    "ax.set_ylabel('Flux')\n",
    "ax.set_title('Plate = %(plate)i, MJD = %(mjd)i, Fiber = %(fiber)i' % locals())"
   ]
  },
  {
   "cell_type": "markdown",
   "id": "3c65a997-e276-4058-9d5e-95e3ca028df9",
   "metadata": {},
   "source": [
    "### Plot a couple more other spectra, maybe try plotting for red and blue galaxies separately?\n",
    "\n",
    "* what are we looking at?\n",
    "* what are some qualitative features?"
   ]
  },
  {
   "cell_type": "markdown",
   "id": "67a8e03e-5c02-40af-9914-780eb683b323",
   "metadata": {},
   "source": [
    "## We are going to switch gear now that you know how to get data -- let's talk about trees\n",
    "\n",
    "This is in the context of one way we commonly use to speed up calculations with large datasets. We look at KD trees and Ball trees."
   ]
  },
  {
   "cell_type": "code",
   "execution_count": null,
   "id": "5bc95fc6-0b19-4e55-a075-ebd257557ea0",
   "metadata": {},
   "outputs": [],
   "source": [
    "# Create a KDTree class which will recursively subdivide the\n",
    "# space into rectangular regions.  Note that this is just an example\n",
    "# and shouldn't be used for real computation; instead use the optimized\n",
    "# code in scipy.spatial.cKDTree or sklearn.neighbors.BallTree\n",
    "\n",
    "class KDTree:\n",
    "    \"\"\"Simple KD tree class\"\"\"\n",
    "\n",
    "    # class initialization function\n",
    "    def __init__(self, data, mins, maxs):\n",
    "        self.data = np.asarray(data)\n",
    "\n",
    "        # data should be two-dimensional\n",
    "        assert self.data.shape[1] == 2\n",
    "\n",
    "        if mins is None:\n",
    "            mins = data.min(0)\n",
    "        if maxs is None:\n",
    "            maxs = data.max(0)\n",
    "\n",
    "        self.mins = np.asarray(mins)\n",
    "        self.maxs = np.asarray(maxs)\n",
    "        self.sizes = self.maxs - self.mins\n",
    "\n",
    "        self.child1 = None\n",
    "        self.child2 = None\n",
    "\n",
    "        if len(data) > 1:\n",
    "            # sort on the dimension with the largest spread (this alternates in this example)\n",
    "            largest_dim = np.argmax(self.sizes)\n",
    "            i_sort = np.argsort(self.data[:, largest_dim])\n",
    "            self.data[:] = self.data[i_sort, :]\n",
    "\n",
    "            # find split point\n",
    "            N = self.data.shape[0]\n",
    "            half_N = int(N / 2)\n",
    "            split_point = 0.5 * (self.data[half_N, largest_dim]\n",
    "                                 + self.data[half_N - 1, largest_dim])\n",
    "\n",
    "            # create subnodes (form a line in the plane)\n",
    "            mins1 = self.mins.copy()\n",
    "            mins1[largest_dim] = split_point\n",
    "            maxs2 = self.maxs.copy()\n",
    "            maxs2[largest_dim] = split_point\n",
    "\n",
    "            # Recursively build a KD-tree on each sub-node\n",
    "            self.child1 = KDTree(self.data[half_N:], mins1, self.maxs)\n",
    "            self.child2 = KDTree(self.data[:half_N], self.mins, maxs2)\n",
    "\n",
    "    def draw_rectangle(self, ax, depth=None):\n",
    "        \"\"\"Recursively plot a visualization of the KD tree region\"\"\"\n",
    "        if depth == 0:\n",
    "            rect = plt.Rectangle(self.mins, *self.sizes, ec='k', fc='none')\n",
    "            ax.add_patch(rect)\n",
    "\n",
    "        if self.child1 is not None:\n",
    "            if depth is None:\n",
    "                self.child1.draw_rectangle(ax)\n",
    "                self.child2.draw_rectangle(ax)\n",
    "            elif depth > 0:\n",
    "                self.child1.draw_rectangle(ax, depth - 1)\n",
    "                self.child2.draw_rectangle(ax, depth - 1)\n"
   ]
  },
  {
   "cell_type": "code",
   "execution_count": null,
   "id": "bcc9580a-4ac6-43b1-b330-c178b548341c",
   "metadata": {},
   "outputs": [],
   "source": [
    "# Create a set of structured random points in two dimensions\n",
    "np.random.seed(0)\n",
    "\n",
    "X = np.random.random((30, 2)) * 2 - 1\n",
    "X[:, 1] *= 0.1\n",
    "X[:, 1] += X[:, 0] ** 2\n",
    "\n",
    "plt.figure(figsize=(3,3))\n",
    "plt.scatter(X[:,0], X[:,1])\n",
    "plt.xlim(-1.1,1.1)\n",
    "plt.ylim(-0.1,1.1)"
   ]
  },
  {
   "cell_type": "code",
   "execution_count": null,
   "id": "ecb199cc-78dd-4ed2-9a31-640e9e6053f9",
   "metadata": {},
   "outputs": [],
   "source": [
    "\n",
    "#------------------------------------------------------------\n",
    "# Use our KD Tree class to recursively divide the space\n",
    "KDT = KDTree(X, [-1.1, -0.1], [1.1, 1.1])\n",
    "\n",
    "#------------------------------------------------------------\n",
    "# Plot four different levels of the KD tree\n",
    "fig = plt.figure(figsize=(5, 5))\n",
    "fig.subplots_adjust(wspace=0.1, hspace=0.15,\n",
    "                    left=0.1, right=0.9,\n",
    "                    bottom=0.05, top=0.9)\n",
    "\n",
    "for level in range(1, 5):\n",
    "    ax = fig.add_subplot(2, 2, level, xticks=[], yticks=[])\n",
    "    ax.scatter(X[:, 0], X[:, 1], s=9)\n",
    "    KDT.draw_rectangle(ax, depth=level - 1)\n",
    "\n",
    "    ax.set_xlim(-1.2, 1.2)\n",
    "    ax.set_ylim(-0.15, 1.15)\n",
    "    ax.set_title('level %i' % level)\n",
    "\n",
    "# suptitle() adds a title to the entire figure\n",
    "fig.suptitle('$k$d-tree Example')"
   ]
  },
  {
   "cell_type": "code",
   "execution_count": null,
   "id": "a8214a96-56fb-413b-8c5e-be077ca2fc3c",
   "metadata": {},
   "outputs": [],
   "source": [
    "from matplotlib.patches import Circle\n",
    "\n",
    "class BallTree:\n",
    "    \"\"\"Simple Ball tree class\"\"\"\n",
    "\n",
    "    # class initialization function\n",
    "    def __init__(self, data):\n",
    "        self.data = np.asarray(data)\n",
    "\n",
    "        # data should be two-dimensional\n",
    "        assert self.data.shape[1] == 2\n",
    "\n",
    "        self.loc = data.mean(0)\n",
    "        self.radius = np.sqrt(np.max(np.sum((self.data - self.loc) ** 2, 1)))\n",
    "\n",
    "        self.child1 = None\n",
    "        self.child2 = None\n",
    "\n",
    "        if len(self.data) > 1:\n",
    "            # sort on the dimension with the largest spread\n",
    "            largest_dim = np.argmax(self.data.max(0) - self.data.min(0))\n",
    "            i_sort = np.argsort(self.data[:, largest_dim])\n",
    "            self.data[:] = self.data[i_sort, :]\n",
    "\n",
    "            # find split point\n",
    "            N = self.data.shape[0]\n",
    "            half_N = int(N / 2)\n",
    "            split_point = 0.5 * (self.data[half_N, largest_dim]\n",
    "                                 + self.data[half_N - 1, largest_dim])\n",
    "\n",
    "            # recursively create subnodes\n",
    "            self.child1 = BallTree(self.data[half_N:])\n",
    "            self.child2 = BallTree(self.data[:half_N])\n",
    "\n",
    "    def draw_circle(self, ax, depth=None):\n",
    "        \"\"\"Recursively plot a visualization of the Ball tree region\"\"\"\n",
    "        if depth is None or depth == 0:\n",
    "            circ = Circle(self.loc, self.radius, ec='k', fc='none')\n",
    "            ax.add_patch(circ)\n",
    "\n",
    "        if self.child1 is not None:\n",
    "            if depth is None:\n",
    "                self.child1.draw_circle(ax)\n",
    "                self.child2.draw_circle(ax)\n",
    "            elif depth > 0:\n",
    "                self.child1.draw_circle(ax, depth - 1)\n",
    "                self.child2.draw_circle(ax, depth - 1)"
   ]
  },
  {
   "cell_type": "code",
   "execution_count": null,
   "id": "e0ef1edb-dcc4-440d-b07d-8055eac29763",
   "metadata": {},
   "outputs": [],
   "source": [
    "# Use our Ball Tree class to recursively divide the space\n",
    "BT = BallTree(X)\n",
    "\n",
    "#------------------------------------------------------------\n",
    "# Plot four different levels of the Ball tree\n",
    "fig = plt.figure(figsize=(5, 5))\n",
    "fig.subplots_adjust(wspace=0.1, hspace=0.15,\n",
    "                    left=0.1, right=0.9,\n",
    "                    bottom=0.05, top=0.9)\n",
    "\n",
    "for level in range(1, 5):\n",
    "    ax = fig.add_subplot(2, 2, level, xticks=[], yticks=[])\n",
    "    ax.scatter(X[:, 0], X[:, 1], s=9)\n",
    "    BT.draw_circle(ax, depth=level - 1)\n",
    "\n",
    "    ax.set_xlim(-1.35, 1.35)\n",
    "    ax.set_ylim(-1.0, 1.7)\n",
    "    ax.set_title('level %i' % level)\n",
    "\n",
    "# suptitle() adds a title to the entire figure\n",
    "fig.suptitle('Ball-tree Example')"
   ]
  },
  {
   "cell_type": "code",
   "execution_count": null,
   "id": "e9b5a075-126d-4da7-afb1-5a4b338d7c46",
   "metadata": {},
   "outputs": [],
   "source": []
  }
 ],
 "metadata": {
  "kernelspec": {
   "display_name": "astr340",
   "language": "python",
   "name": "astr340"
  },
  "language_info": {
   "codemirror_mode": {
    "name": "ipython",
    "version": 3
   },
   "file_extension": ".py",
   "mimetype": "text/x-python",
   "name": "python",
   "nbconvert_exporter": "python",
   "pygments_lexer": "ipython3",
   "version": "3.9.18"
  }
 },
 "nbformat": 4,
 "nbformat_minor": 5
}
