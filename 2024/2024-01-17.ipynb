{
 "cells": [
  {
   "cell_type": "markdown",
   "metadata": {},
   "source": [
    "# In-class notebook: 2024-01-17\n",
    "\n",
    "In this notebook, we will get familiar with the basics function related to downloading SDSS data using astroML, some basic plotting techniques, as well as some implementations of using trees to speed up calculations.\n",
    "\n",
    "This notebook is intended to support Chapter 3.4-3.7 of the textbook, and material is taken from the following scripts (from astroML):\n",
    "* https://github.com/astroML/astroML-notebooks/blob/main/chapter3/astroml_chapter3_The_Central_Limit_Theorem.ipynb\n",
    "* https://github.com/astroML/astroML-notebooks/blob/main/chapter3/astroml_chapter3_Bivariate_and_Multivariate_Distribution_Functions.ipynb"
   ]
  },
  {
   "cell_type": "markdown",
   "metadata": {},
   "source": [
    "## Central Limit Theorem"
   ]
  },
  {
   "cell_type": "code",
   "execution_count": null,
   "metadata": {},
   "outputs": [],
   "source": [
    "import numpy as np\n",
    "from matplotlib import pyplot as plt\n",
    "from scipy.stats import norm, cauchy\n",
    "\n",
    "# Generate the uniform samples\n",
    "N = [2, 3, 10]\n",
    "\n",
    "np.random.seed(42)\n",
    "x = np.random.random((max(N), int(1E6)))\n",
    "print(x.shape)"
   ]
  },
  {
   "cell_type": "code",
   "execution_count": null,
   "metadata": {},
   "outputs": [],
   "source": [
    "# Plot the results\n",
    "fig = plt.figure(figsize=(8, 8))\n",
    "fig.subplots_adjust(hspace=0.05)\n",
    "\n",
    "for i in range(len(N)):\n",
    "    ax = fig.add_subplot(3, 1, i + 1)\n",
    "\n",
    "    # take the mean of the first N[i] samples\n",
    "    x_i = x[:N[i], :].mean(0)\n",
    "\n",
    "    # histogram the data\n",
    "    ax.hist(x_i, bins=np.linspace(0, 1, 101),\n",
    "            histtype='stepfilled', alpha=0.5, density=True)\n",
    "\n",
    "    # plot the expected gaussian pdf\n",
    "    mu = 0.5\n",
    "    sigma = 1. / np.sqrt(12 * N[i])\n",
    "    dist = norm(mu, sigma)\n",
    "    x_pdf = np.linspace(-0.5, 1.5, 1000)\n",
    "    ax.plot(x_pdf, dist.pdf(x_pdf), '-k')\n",
    "\n",
    "    ax.set_xlim(0.0, 1.0)\n",
    "    ax.set_ylim(0.001, None)\n",
    "\n",
    "    ax.xaxis.set_major_locator(plt.MultipleLocator(0.2))\n",
    "    ax.yaxis.set_major_locator(plt.MaxNLocator(5))\n",
    "\n",
    "    ax.text(0.99, 0.95, r\"$N = %i$\" % N[i],\n",
    "            ha='right', va='top', transform=ax.transAxes)\n",
    "\n",
    "    if i == len(N) - 1:\n",
    "        ax.xaxis.set_major_formatter(plt.FormatStrFormatter('%.4f'))\n",
    "        ax.set_xlabel(r'$x$', fontsize = 12)\n",
    "    else:\n",
    "        ax.xaxis.set_major_formatter(plt.NullFormatter())\n",
    "\n",
    "    ax.set_ylabel('$p(x)$', fontsize = 12)\n"
   ]
  },
  {
   "cell_type": "code",
   "execution_count": null,
   "metadata": {},
   "outputs": [],
   "source": []
  },
  {
   "cell_type": "code",
   "execution_count": null,
   "metadata": {},
   "outputs": [],
   "source": [
    "# Generate the laplace samples\n",
    "N = [2, 10, 20]\n",
    "\n",
    "np.random.seed(42)\n",
    "x = np.random.laplace(0.5,(1/np.sqrt(12)),(max(N), int(1E6)))"
   ]
  },
  {
   "cell_type": "code",
   "execution_count": null,
   "metadata": {},
   "outputs": [],
   "source": [
    "# Plot the results\n",
    "fig = plt.figure(figsize=(8, 8))\n",
    "fig.subplots_adjust(hspace=0.05)\n",
    "\n",
    "for i in range(len(N)):\n",
    "    ax = fig.add_subplot(3, 1, i + 1)\n",
    "\n",
    "    # take the mean of the first N[i] samples\n",
    "    x_i = x[:N[i], :].mean(0)\n",
    "\n",
    "    # histogram the data\n",
    "    ax.hist(x_i, bins=np.linspace(0, 1, 101),\n",
    "            histtype='stepfilled', alpha=0.5, density=True)\n",
    "\n",
    "    # plot the expected gaussian pdf\n",
    "    mu = 0.5\n",
    "    sigma = (1/np.sqrt(12*N[i]))*np.sqrt(2)\n",
    "    dist = norm(mu, sigma)\n",
    "    x_pdf = np.linspace(-0.5, 1.5, 1000)\n",
    "    ax.plot(x_pdf, dist.pdf(x_pdf), '-k')\n",
    "\n",
    "    ax.set_xlim(0.0, 1.0)\n",
    "    ax.set_ylim(0.001, None)\n",
    "\n",
    "    ax.xaxis.set_major_locator(plt.MultipleLocator(0.2))\n",
    "    ax.yaxis.set_major_locator(plt.MaxNLocator(5))\n",
    "\n",
    "    ax.text(0.99, 0.95, r\"$N = %i$\" % N[i],\n",
    "            ha='right', va='top', transform=ax.transAxes)\n",
    "\n",
    "    if i == len(N) - 1:\n",
    "        ax.xaxis.set_major_formatter(plt.FormatStrFormatter('%.4f'))\n",
    "        ax.set_xlabel(r'$x$', fontsize = 12)\n",
    "    else:\n",
    "        ax.xaxis.set_major_formatter(plt.NullFormatter())\n",
    "\n",
    "    ax.set_ylabel('$p(x)$', fontsize = 12)\n"
   ]
  },
  {
   "cell_type": "markdown",
   "metadata": {},
   "source": [
    "## Bivariate Gaussian distributions"
   ]
  },
  {
   "cell_type": "code",
   "execution_count": null,
   "metadata": {},
   "outputs": [],
   "source": [
    "import numpy as np\n",
    "from matplotlib import pyplot as plt\n",
    "from matplotlib.patches import Ellipse\n",
    "from astroML.stats.random import bivariate_normal"
   ]
  },
  {
   "cell_type": "code",
   "execution_count": null,
   "metadata": {},
   "outputs": [],
   "source": [
    "mean = np.array([0, 0])\n",
    "sigma_1 = 2\n",
    "sigma_2 = 1\n",
    "alpha = np.pi / 4"
   ]
  },
  {
   "cell_type": "code",
   "execution_count": null,
   "metadata": {},
   "outputs": [],
   "source": [
    "np.random.seed(0)\n",
    "x, cov = bivariate_normal(mean, sigma_1, sigma_2, alpha, size=100000,\n",
    "                          return_cov=True)\n",
    "\n",
    "sigma_x = np.sqrt(cov[0, 0])\n",
    "sigma_y = np.sqrt(cov[1, 1])\n",
    "sigma_xy = cov[0, 1]\n",
    "\n",
    "print(x.shape, cov.shape)\n",
    "print(sigma_x,sigma_y)"
   ]
  },
  {
   "cell_type": "code",
   "execution_count": null,
   "metadata": {},
   "outputs": [],
   "source": [
    "fig = plt.figure(figsize=(8, 8))\n",
    "ax = fig.add_subplot(111)\n",
    "\n",
    "# plot a 2D histogram/hess diagram of the points\n",
    "H, bins = np.histogramdd(x, bins=2 * [np.linspace(-4.5, 4.5, 51)])\n",
    "ax.imshow(H, origin='lower', cmap=plt.cm.binary, interpolation='nearest',\n",
    "          extent=[bins[0][0], bins[0][-1], bins[1][0], bins[1][-1]])\n",
    "\n",
    "# draw 1, 2, 3-sigma ellipses over the distribution\n",
    "for N in (1, 2, 3):\n",
    "    ax.add_patch(Ellipse(mean, N * sigma_1, N * sigma_2,\n",
    "                         angle=alpha * 180. / np.pi, lw=1,\n",
    "                         ec='k', fc='none'))\n",
    "\n",
    "kwargs = dict(ha='left', va='top', transform=ax.transAxes)\n",
    "\n",
    "ax.text(0.02, 0.98, r\"$\\sigma_1 = %i$\" % sigma_1, **kwargs, fontsize = 12)\n",
    "ax.text(0.02, 0.93, r\"$\\sigma_2 = %i$\" % sigma_2, **kwargs, fontsize = 12)\n",
    "ax.text(0.02, 0.88, r\"$\\alpha = \\pi / %i$\" % (np.pi / alpha), **kwargs, fontsize = 12)\n",
    "\n",
    "ax.text(0.15, 0.98, r\"$\\sigma_x = %.2f$\" % sigma_x, **kwargs, fontsize = 12)\n",
    "ax.text(0.15, 0.93, r\"$\\sigma_y = %.2f$\" % sigma_y, **kwargs, fontsize = 12)\n",
    "ax.text(0.15, 0.88, r\"$\\sigma_{xy} = %.2f$\" % sigma_xy, **kwargs, fontsize = 12)\n",
    "\n",
    "ax.set_xlabel('$x$', fontsize = 16)\n",
    "ax.set_ylabel('$y$', fontsize = 16)\n",
    "ax.tick_params(axis='both', which='major', labelsize=12)"
   ]
  },
  {
   "cell_type": "code",
   "execution_count": null,
   "metadata": {},
   "outputs": [],
   "source": []
  }
 ],
 "metadata": {
  "kernelspec": {
   "display_name": "astr340",
   "language": "python",
   "name": "astr340"
  },
  "language_info": {
   "codemirror_mode": {
    "name": "ipython",
    "version": 3
   },
   "file_extension": ".py",
   "mimetype": "text/x-python",
   "name": "python",
   "nbconvert_exporter": "python",
   "pygments_lexer": "ipython3",
   "version": "3.9.18"
  }
 },
 "nbformat": 4,
 "nbformat_minor": 4
}
