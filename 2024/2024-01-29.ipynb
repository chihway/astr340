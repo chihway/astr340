{
 "cells": [
  {
   "cell_type": "markdown",
   "metadata": {},
   "source": [
    "# In-class notebook: 2024-01-29\n",
    "\n",
    "In this notebook, we will use a coin flip example to look at several important concepts of Bayesian statistics. \n",
    "\n",
    "This notebook is intended to support Chapter 5.2-5.4 of the textbook, and material is taken from the following scripts (from astroML):\n",
    "* https://github.com/astroML/astroML_figures/blob/main/book_figures/chapter5/fig_odds_ratio_coin.py\n",
    "\n"
   ]
  },
  {
   "cell_type": "markdown",
   "metadata": {},
   "source": [
    "## Odds ratio\n",
    "\n",
    "Odds ratio for two models, $O_{21}$, describing coin tosses. We toss the coin N times and find k tosses are heads.\n",
    "* Model 1: we a priori known heads probability equal to $b_*$\n",
    "* Model 2: the probability of heads is unknown, with uniform prior 0-1\n",
    "\n",
    "We look at two values of $b_*$. Note that the odds ratio is minimized and below 1 (model 1 wins) when $k = b_* N$."
   ]
  },
  {
   "cell_type": "code",
   "execution_count": null,
   "metadata": {},
   "outputs": [],
   "source": [
    "%matplotlib inline\n",
    "\n",
    "import numpy as np\n",
    "from matplotlib import pyplot as plt\n",
    "from scipy import integrate\n",
    "\n",
    "@np.vectorize\n",
    "def odds_ratio(n, k, bstar):\n",
    "    \"\"\"Odds ratio between M_2, where the heads probability is unknown,\n",
    "    and M_1, where the heads probability is known to be `bstar`, evaluated\n",
    "    in the case of `k` heads observed in `n` tosses.\n",
    "\n",
    "    Eqn. 5.25 in the text\n",
    "    \"\"\"\n",
    "    factor = 1. / (bstar ** k * (1 - bstar) ** (n - k))\n",
    "    f = lambda b: b ** k * (1 - b) ** (n - k)\n",
    "\n",
    "    return factor * integrate.quad(f, 0, 1)[0]\n",
    "\n",
    "#------------------------------------------------------------\n",
    "# Plot the results\n",
    "fig = plt.figure(figsize=(5, 2.5))\n",
    "fig.subplots_adjust(left=0.13, right=0.95, wspace=0.05, bottom=0.15)\n",
    "\n",
    "subplots = [121, 122]\n",
    "n_array = [10, 20]\n",
    "\n",
    "linestyles = ['-k', '--b']\n",
    "bstar_array = [0.5, 0.1]\n",
    "\n",
    "for subplot, n in zip(subplots, n_array):\n",
    "    ax = fig.add_subplot(subplot, yscale='log')\n",
    "    k = np.arange(n + 1)\n",
    "\n",
    "    # plot curves for two values of bstar\n",
    "    for ls, bstar in zip(linestyles, bstar_array):\n",
    "        ax.plot(k, odds_ratio(n, k, bstar), ls,\n",
    "                label=r'$b^* = %.1f$' % bstar)\n",
    "\n",
    "    if subplot == 121:\n",
    "        ax.set_xlim(0, n - 0.01)\n",
    "        ax.set_ylabel(r'$O_{21}$')\n",
    "        ax.legend(loc=2)\n",
    "    else:\n",
    "        ax.set_xlim(0, n)\n",
    "        ax.yaxis.set_major_formatter(plt.NullFormatter())\n",
    "\n",
    "    ax.set_xlabel('$k$')\n",
    "    ax.set_title('$n = %i$' % n)\n",
    "    ax.set_ylim(8E-2, 1E3)\n",
    "    ax.xaxis.set_major_locator(plt.MultipleLocator(n / 5))\n",
    "    ax.grid()\n"
   ]
  },
  {
   "cell_type": "code",
   "execution_count": null,
   "metadata": {},
   "outputs": [],
   "source": []
  }
 ],
 "metadata": {
  "kernelspec": {
   "display_name": "astr340",
   "language": "python",
   "name": "astr340"
  },
  "language_info": {
   "codemirror_mode": {
    "name": "ipython",
    "version": 3
   },
   "file_extension": ".py",
   "mimetype": "text/x-python",
   "name": "python",
   "nbconvert_exporter": "python",
   "pygments_lexer": "ipython3",
   "version": "3.9.18"
  }
 },
 "nbformat": 4,
 "nbformat_minor": 4
}
