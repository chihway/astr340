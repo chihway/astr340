{
 "cells": [
  {
   "cell_type": "markdown",
   "metadata": {},
   "source": [
    "# In-class notebook: 2024-01-08\n",
    "\n",
    "In this notebook, we will re-familiarize ourselves with the basics of probability.\n",
    "\n",
    "This notebook is intended to support Chapter 3.1 of the textbook, and material is taken from the following scripts (from astroML):\n",
    "* https://github.com/astroML/astroML-notebooks/blob/main/chapter3/astroml_chapter3_Overview_of_Probability_and_Random_Variables.ipynb"
   ]
  },
  {
   "cell_type": "markdown",
   "metadata": {},
   "source": [
    "## Probability axioms"
   ]
  },
  {
   "cell_type": "markdown",
   "metadata": {},
   "source": [
    "Given an event $A$, such as the outcome of a coin toss, we assign it a real number $p(A)$, called the probability of $A$. Note that $p(A)$ could also correspond to a probability that a value of $x$ falls in a $dx$ wide interval around $x$. To qualify as a probability, $p(A)$ must satisfy three Kolmogorov axioms:\n",
    "\n",
    "1. $p(A) \\geq 0$ for each $A$.\n",
    "2. $p(\\Omega) = 1$, where $\\Omega$ is the set of all possible outcomes.\n",
    "3. If $A_1$, $A_2$, . . . are disjoint events, then $p (\\bigcup^{\\infty}_{i=1}A_i) = \\sum_{i=1}^{\\infty}p(A_i)$ where $\\bigcup$ stands for “union.”"
   ]
  },
  {
   "cell_type": "markdown",
   "metadata": {},
   "source": [
    "### Several useful rules can be derived as a consequence of these axioms"
   ]
  },
  {
   "cell_type": "markdown",
   "metadata": {},
   "source": [
    "**Sum rule**:  The probability that the union of two events, $A$ and $B$, will happen is given by,\n",
    "\n",
    "$$\\qquad\\qquad p(A \\cup B) = p(A) + p(B) - p(A \\cap B)\\qquad\\qquad\\qquad(1)$$\n",
    "\n",
    "\n",
    "which is the sum of $A$ and $B$'s respective probabilities minus the probability that both $A$ and $B$ will happen. The union of two events is the probability that *either* event occurs. The $\\cap$ in the equation stands for \"intersection\", and subtracting the last term, $p(A \\cap B)$, avoids double counting the places that $A$ and $B$ overlap. \n",
    "\n",
    "**Rule of complementary events**: The probability of an event happening plus the probability of it not happening is equal to 1.\n",
    "$$ p(A) + p(\\overline{A}) = 1 $$\n",
    "\n",
    "**Rule of multiplication**: The probability that both events $A$ and $B$ occur is equal to the probability that event $B$ occurs times the probability that event $A$ occurs given that $B$ has occurred. Switching $A$ and $B$ yields an equivalent statement.\n",
    "\n",
    "$$ p(A \\cap B) = p(A|B)p(B) = p(B|A)p(A)$$\n",
    "\n",
    "In the equation above, \"|\" is pronounced \"given,\" and $p(A|B)$ is the probability of event $A$ occurring given that B has occurred."
   ]
  },
  {
   "cell_type": "markdown",
   "metadata": {},
   "source": [
    "**Example**: Find the probability of rolling an odd number greater than 2."
   ]
  },
  {
   "cell_type": "markdown",
   "metadata": {},
   "source": [
    "> Event A: Rolling an odd number\n",
    ">\n",
    "> Event B: Rolling a number greater than 2\n",
    ">\n",
    ">$P(\\text{odd and greater than 2}) = P(\\text{odd|if} >2) \\times P(> 2)$\n",
    ">    \n",
    ">- All outcomes: 1 2 3 4 5 6\n",
    ">- $P(\\text{is}$ > 2) = count(3 4 5 6) / count (1 2 3 4 5 6) = 4/6\n",
    ">- the probability that a number is odd if it's greater than two:  3,5\n",
    ">- $P(\\text{is odd| if} > 2)$ = count(3 5) / count (3 4 5 6) = 1/2\n",
    ">   \n",
    "> $P(\\text{odd and greater than 2})$ = 4/6 $\\times$ 1/2 = $\\fbox{1/3}$\n",
    ">   \n",
    ">We can get the same answer by determining the odd numbers greater than two on a die (2) and dividing by the total possibilities (6) to get 1/3.\n"
   ]
  },
  {
   "cell_type": "markdown",
   "metadata": {},
   "source": [
    "```{toggle}\n",
    "XXX\n",
    "```"
   ]
  },
  {
   "cell_type": "code",
   "execution_count": null,
   "metadata": {},
   "outputs": [],
   "source": []
  }
 ],
 "metadata": {
  "kernelspec": {
   "display_name": "astr340",
   "language": "python",
   "name": "astr340"
  },
  "language_info": {
   "codemirror_mode": {
    "name": "ipython",
    "version": 3
   },
   "file_extension": ".py",
   "mimetype": "text/x-python",
   "name": "python",
   "nbconvert_exporter": "python",
   "pygments_lexer": "ipython3",
   "version": "3.9.18"
  }
 },
 "nbformat": 4,
 "nbformat_minor": 4
}
