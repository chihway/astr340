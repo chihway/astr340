{
 "cells": [
  {
   "cell_type": "markdown",
   "metadata": {},
   "source": [
    "# In-class notebook: 2024-02-12\n",
    "\n",
    "In this notebook, we will look at a few different ways to reduce the dimensionality of the data. We demonstrate this on a set of SDSS galaxy spectra. \n",
    "\n",
    "This notebook is intended to support Chapter 7 of the textbook, and material is taken from the following script (from astroML):\n",
    "* https://github.com/astroML/astroML-notebooks/blob/main/chapter7/astroml_chapter7_Dimensionality_Reduction.ipynb\n",
    "* https://github.com/astroML/astroML_figures/blob/main/book_figures/chapter7/fig_PCA_LLE.py"
   ]
  },
  {
   "cell_type": "code",
   "execution_count": null,
   "metadata": {},
   "outputs": [],
   "source": [
    "import numpy as np\n",
    "from matplotlib import pyplot as plt\n",
    "from matplotlib.patches import Ellipse\n",
    "from matplotlib import ticker"
   ]
  },
  {
   "cell_type": "code",
   "execution_count": null,
   "metadata": {},
   "outputs": [],
   "source": [
    "# let's first create some fake data with correlated structure\n",
    "# you can rerun this step and get different patters\n",
    "X = np.random.normal(size=(100, 3))"
   ]
  },
  {
   "cell_type": "code",
   "execution_count": null,
   "metadata": {},
   "outputs": [],
   "source": [
    "# X is a 100 x 3 matrix we wish to decompose \n",
    "# think 100 realizations of a data vector with 3 elements\n",
    "plt.imshow(X.T)"
   ]
  },
  {
   "cell_type": "markdown",
   "metadata": {},
   "source": [
    "## We first perform PCA on this using the SVD method "
   ]
  },
  {
   "cell_type": "code",
   "execution_count": null,
   "metadata": {},
   "outputs": [],
   "source": [
    "# first approach: do the SVD decomposition on X\n",
    "U, Sdiag, VT = np.linalg.svd(X, full_matrices=False)"
   ]
  },
  {
   "cell_type": "code",
   "execution_count": null,
   "metadata": {},
   "outputs": [],
   "source": [
    "# this is the eigen values, note that it decreases monotonically\n",
    "print(Sdiag)\n",
    "plt.plot(Sdiag)\n",
    "plt.ylabel(\"eigen value\")\n",
    "plt.xlabel(\"index\")"
   ]
  },
  {
   "cell_type": "code",
   "execution_count": null,
   "metadata": {},
   "outputs": [],
   "source": [
    "# this is the eigen vectors, from the above we know the first 3 are important\n",
    "for i in range(3):\n",
    "    plt.plot(VT.T[i], label=str(i))\n",
    "plt.legend()"
   ]
  },
  {
   "cell_type": "code",
   "execution_count": null,
   "metadata": {},
   "outputs": [],
   "source": [
    "# this is the \"coefficients\" when projecting onto the new axis\n",
    "plt.imshow(U.T)\n",
    "U.shape"
   ]
  },
  {
   "cell_type": "code",
   "execution_count": null,
   "metadata": {},
   "outputs": [],
   "source": [
    "# recover original X marix from the decomposition\n",
    "plt.imshow((np.dot(np.dot(U, np.diag(Sdiag)), VT)-X)/X)\n",
    "plt.colorbar()"
   ]
  },
  {
   "cell_type": "code",
   "execution_count": null,
   "metadata": {},
   "outputs": [],
   "source": [
    "plt.figure(figsize=(4,10))\n",
    "for i in range(3):\n",
    "    E1 = np.diag(Sdiag)\n",
    "    E1[i:,i:] = 0\n",
    "    plt.subplot(1,3,i+1)\n",
    "    plt.imshow(np.dot(np.dot(U, E1), VT))\n",
    "    plt.tick_params(left = False, bottom=False, labelleft = False, labelbottom = False)\n",
    "    plt.clim(-2.5,2.5)"
   ]
  },
  {
   "cell_type": "code",
   "execution_count": null,
   "metadata": {},
   "outputs": [],
   "source": [
    "# second approach: form the covariance matrix\n",
    "CX = np.dot(X.T, X)\n",
    "\n",
    "# get the eigen values and the rotation from the covariance matrix\n",
    "CYdiag, R = np.linalg.eigh(CX)"
   ]
  },
  {
   "cell_type": "code",
   "execution_count": null,
   "metadata": {},
   "outputs": [],
   "source": [
    "CYdiag"
   ]
  },
  {
   "cell_type": "code",
   "execution_count": null,
   "metadata": {},
   "outputs": [],
   "source": [
    "# check that we recover the same eigen values\n",
    "plt.plot(CYdiag[::-1])\n",
    "plt.plot(Sdiag**2, ls='--')\n",
    "plt.ylabel(\"eigen value\")\n",
    "plt.xlabel(\"index\")"
   ]
  },
  {
   "cell_type": "code",
   "execution_count": null,
   "metadata": {},
   "outputs": [],
   "source": [
    "VT[::-1].T/R"
   ]
  },
  {
   "cell_type": "markdown",
   "metadata": {},
   "source": [
    "## Now with a slightly more complicated case where the data is correlated "
   ]
  },
  {
   "cell_type": "code",
   "execution_count": null,
   "metadata": {},
   "outputs": [],
   "source": [
    "# with the same fake data, we project it to a higher dimension\n",
    "# note that this data only has 3 intrinsic dimensions\n",
    "X = np.random.normal(size=(100, 3))\n",
    "R0 = np.random.random((3, 10))\n",
    "X = np.dot(X, R0)"
   ]
  },
  {
   "cell_type": "code",
   "execution_count": null,
   "metadata": {},
   "outputs": [],
   "source": [
    "# X is now a 100 x 10 matrix we wish to decompose \n",
    "# think 100 realizations of a data vector with 10 elements\n",
    "plt.imshow(X.T)"
   ]
  },
  {
   "cell_type": "code",
   "execution_count": null,
   "metadata": {},
   "outputs": [],
   "source": [
    "# we do the same thing\n",
    "U, Sdiag, VT = np.linalg.svd(X, full_matrices=False)\n",
    "CX = np.dot(X.T, X)\n",
    "CYdiag, R = np.linalg.eigh(CX)\n",
    "\n",
    "plt.plot(Sdiag**2)\n",
    "plt.plot(CYdiag[::-1], ls='--')\n",
    "plt.ylabel(\"eigen value^2\")\n",
    "plt.xlabel(\"index\")\n",
    "plt.yscale(\"linear\")\n",
    "# check what happens when we swtich to log?\n",
    "# note that only the first 3 are meaningful!"
   ]
  },
  {
   "cell_type": "code",
   "execution_count": null,
   "metadata": {},
   "outputs": [],
   "source": [
    "plt.figure(figsize=(10,10))\n",
    "for i in range(10):\n",
    "    E1 = np.diag(Sdiag)\n",
    "    E1[i:,i:] = 0\n",
    "    plt.subplot(1,10,i+1)\n",
    "    plt.imshow(np.dot(np.dot(U, E1), VT))\n",
    "    plt.tick_params(left = False, bottom=False, labelleft = False, labelbottom = False)\n",
    "    plt.clim(-3,3)"
   ]
  },
  {
   "cell_type": "code",
   "execution_count": null,
   "metadata": {},
   "outputs": [],
   "source": []
  },
  {
   "cell_type": "markdown",
   "metadata": {},
   "source": [
    "## Ok now we can use the \"blackbox\" PCA routine in sklearn\n",
    "\n",
    "You can read more here: https://scikit-learn.org/stable/modules/generated/sklearn.decomposition.PCA.html, including different SVD solvers one can choose from etc.."
   ]
  },
  {
   "cell_type": "code",
   "execution_count": null,
   "metadata": {},
   "outputs": [],
   "source": [
    "from sklearn.decomposition import PCA\n",
    "\n",
    "# tell sklearn to do a PCA decomposition and we just take 4 PCs\n",
    "pca = PCA(n_components=4, svd_solver='full')\n",
    "pca.fit(X)\n",
    "comp = pca.transform(X)"
   ]
  },
  {
   "cell_type": "code",
   "execution_count": null,
   "metadata": {},
   "outputs": [],
   "source": [
    "mean = pca.mean_ # mean of the data vectors\n",
    "components = pca.components_ # first 4 components\n",
    "var = pca.explained_variance_ # first 4 eigen values"
   ]
  },
  {
   "cell_type": "code",
   "execution_count": null,
   "metadata": {},
   "outputs": [],
   "source": [
    "plt.plot(mean)\n",
    "plt.plot(np.mean(X, axis=0), ls='--')"
   ]
  },
  {
   "cell_type": "code",
   "execution_count": null,
   "metadata": {},
   "outputs": [],
   "source": [
    "print(var)\n",
    "print(Sdiag**2)\n",
    "# note that in previous operations we ignored the prefactors! \n",
    "# this is resulting in the factor of ~100 here"
   ]
  },
  {
   "cell_type": "code",
   "execution_count": null,
   "metadata": {},
   "outputs": [],
   "source": [
    "# note positivity\n",
    "for i in range(4):\n",
    "    plt.plot(np.abs(components[i]), color='k')\n",
    "    plt.plot(np.abs(VT[i]), label=str(i), ls='--')\n",
    "plt.legend()"
   ]
  },
  {
   "cell_type": "markdown",
   "metadata": {},
   "source": [
    "## Now let's try this on a set of SDSS spectra"
   ]
  },
  {
   "cell_type": "markdown",
   "metadata": {},
   "source": [
    "### We randomly select 15 spectra to look at\n",
    "\n",
    "SDSS internally did a PCA reconstruction already, so we are plotting the raw and reconstructed spectra here."
   ]
  },
  {
   "cell_type": "code",
   "execution_count": null,
   "metadata": {},
   "outputs": [],
   "source": [
    "from astroML.datasets import sdss_corrected_spectra\n",
    "\n",
    "#----------------------------------------------------------------------\n",
    "# Use pre-computed PCA to reconstruct spectra\n",
    "data = sdss_corrected_spectra.fetch_sdss_corrected_spectra()\n",
    "spectra_raw = data['spectra']\n",
    "spectra_corr = sdss_corrected_spectra.reconstruct_spectra(data)\n",
    "wavelengths = sdss_corrected_spectra.compute_wavelengths(data)\n",
    "\n",
    "#------------------------------------------------------------\n",
    "# select random spectra\n",
    "np.random.seed(5)\n",
    "nrows = 5\n",
    "ncols = 3\n",
    "ind = np.random.randint(spectra_corr.shape[0], size=nrows * ncols)\n",
    "spec_sample_raw = spectra_raw[ind]\n",
    "spec_sample_corr = spectra_corr[ind]"
   ]
  },
  {
   "cell_type": "code",
   "execution_count": null,
   "metadata": {},
   "outputs": [],
   "source": [
    "fig = plt.figure(figsize=(10, 8))\n",
    "\n",
    "fig.subplots_adjust(left=0.05, right=0.95, wspace=0.05,\n",
    "                    bottom=0.1, top=0.95, hspace=0.05)\n",
    "\n",
    "for i in range(ncols):\n",
    "    for j in range(nrows):\n",
    "        ax = fig.add_subplot(nrows, ncols, ncols * j + 1 + i)\n",
    "        ax.plot(wavelengths, spec_sample_raw[ncols * j + i], '-k', lw=1)\n",
    "        ax.plot(wavelengths, spec_sample_corr[ncols * j + i], '-k', lw=1, c='blue')               \n",
    "        ax.set_xlim(3100, 7999)\n",
    "\n",
    "        ax.yaxis.set_major_formatter(plt.NullFormatter())\n",
    "        ax.xaxis.set_major_locator(plt.MultipleLocator(1000))\n",
    "        if j < nrows - 1:\n",
    "            ax.xaxis.set_major_formatter(plt.NullFormatter())\n",
    "        else:\n",
    "            plt.xlabel(r'wavelength $(\\AA)$')\n",
    "\n",
    "        ylim = ax.get_ylim()\n",
    "        dy = 0.05 * (ylim[1] - ylim[0])\n",
    "        ax.set_ylim(ylim[0] - dy, ylim[1] + dy)"
   ]
  },
  {
   "cell_type": "markdown",
   "metadata": {},
   "source": [
    "### Next we compute the PCA components\n",
    "\n",
    "See this file for how we do this with masked data: https://github.com/astroML/astroML/blob/main/examples/datasets/compute_sdss_pca.py"
   ]
  },
  {
   "cell_type": "code",
   "execution_count": null,
   "metadata": {},
   "outputs": [],
   "source": [
    "#------------------------------------------------------------\n",
    "# Compute PCA components\n",
    "\n",
    "# Eigenvalues can be computed using PCA as in the commented code below:\n",
    "\n",
    "#from sklearn.decomposition import PCA\n",
    "#pca = PCA()\n",
    "#pca.fit(spectra_corr)\n",
    "#evals = pca.explained_variance_ratio_\n",
    "#evals_cs = evals.cumsum()\n",
    "\n",
    "#  because the spectra have been reconstructed from masked values, this\n",
    "#  is not exactly correct in this case: we'll use the values computed\n",
    "#  in the file compute_sdss_pca.py\n",
    "evals = data['evals'] ** 2\n",
    "evals_cs = evals.cumsum()\n",
    "evals_cs /= evals_cs[-1]\n",
    "evecs = data['evecs']\n",
    "spec_mean = spectra_corr.mean(0)\n",
    "\n",
    "#------------------------------------------------------------\n",
    "# Find the coefficients of a particular spectrum\n",
    "spec = spectra_corr[1]\n",
    "coeff = np.dot(evecs, spec - spec_mean)\n",
    "\n",
    "#------------------------------------------------------------\n",
    "# Plot the sequence of reconstructions\n",
    "fig = plt.figure(figsize=(5, 5))\n",
    "fig.subplots_adjust(hspace=0, top=0.95, bottom=0.1, left=0.12, right=0.93)\n",
    "\n",
    "for i, n in enumerate([0, 4, 8, 20]):\n",
    "    ax = fig.add_subplot(411 + i)\n",
    "    ax.plot(wavelengths, spec, '-', c='gray')\n",
    "    ax.plot(wavelengths, spec_mean + np.dot(coeff[:n], evecs[:n]), '-k')\n",
    "\n",
    "    if i < 3:\n",
    "        ax.xaxis.set_major_formatter(plt.NullFormatter())\n",
    "\n",
    "    ax.set_ylim(-2, 21)\n",
    "    ax.set_ylabel('flux')\n",
    "\n",
    "    if n == 0:\n",
    "        text = \"mean\"\n",
    "    elif n == 1:\n",
    "        text = \"mean + 1 component\\n\"\n",
    "        text += r\"$(\\sigma^2_{tot} = %.2f)$\" % evals_cs[n - 1]\n",
    "    else:\n",
    "        text = \"mean + %i components\\n\" % n\n",
    "        text += r\"$(\\sigma^2_{tot} = %.2f)$\" % evals_cs[n - 1]\n",
    "\n",
    "    ax.text(0.02, 0.93, text, ha='left', va='top', transform=ax.transAxes)\n",
    "\n",
    "fig.axes[-1].set_xlabel(r'${\\rm wavelength\\ (\\AA)}$')"
   ]
  },
  {
   "cell_type": "code",
   "execution_count": null,
   "metadata": {},
   "outputs": [],
   "source": [
    "fig = plt.figure(figsize=(10, 7.5))\n",
    "fig.subplots_adjust(hspace=0.05, bottom=0.12)\n",
    "\n",
    "ax = fig.add_subplot(211, xscale='log', yscale='log')\n",
    "ax.grid()\n",
    "ax.plot(evals, c='k')\n",
    "ax.set_ylabel('Normalized Eigenvalues')\n",
    "ax.xaxis.set_major_formatter(plt.NullFormatter())\n",
    "ax.set_ylim(5E-4, 100)\n",
    "\n",
    "ax = fig.add_subplot(212, xscale='log')\n",
    "ax.grid()\n",
    "ax.semilogx(evals_cs, color='k')\n",
    "ax.set_xlabel('Eigenvalue Number')\n",
    "ax.set_ylabel('Cumulative Eigenvalues')\n",
    "ax.set_ylim(0.65, 1.00)"
   ]
  },
  {
   "cell_type": "markdown",
   "metadata": {},
   "source": [
    "## Now compare all dimensional reduction methods: PCA, NMF and ICA"
   ]
  },
  {
   "cell_type": "code",
   "execution_count": null,
   "metadata": {},
   "outputs": [],
   "source": [
    "from sklearn.decomposition import NMF, FastICA, PCA\n",
    "\n",
    "data = sdss_corrected_spectra.fetch_sdss_corrected_spectra()\n",
    "spectra = sdss_corrected_spectra.reconstruct_spectra(data)\n",
    "wavelengths = sdss_corrected_spectra.compute_wavelengths(data)\n",
    "\n",
    "#----------------------------------------------------------------------\n",
    "# Compute PCA, ICA, and NMF components\n",
    "def compute_PCA_ICA_NMF(n_components=5):\n",
    "    spec_mean = spectra.mean(0)\n",
    "\n",
    "    # PCA: use randomized PCA for speed\n",
    "    pca = PCA(n_components - 1, random_state=0, svd_solver='randomized')\n",
    "    pca.fit(spectra)\n",
    "    pca_comp = np.vstack([spec_mean,\n",
    "                          pca.components_])\n",
    "\n",
    "    # ICA treats sequential observations as related.  Because of this, we need\n",
    "    # to fit with the transpose of the spectra\n",
    "    ica = FastICA(n_components - 1, random_state=0)\n",
    "    ica.fit(spectra.T)\n",
    "    ica_comp = np.vstack([spec_mean,\n",
    "                          ica.transform(spectra.T).T])\n",
    "\n",
    "    # NMF requires all elements of the input to be greater than zero\n",
    "    spectra[spectra < 0] = 0\n",
    "    nmf = NMF(n_components, random_state=0)\n",
    "    nmf.fit(spectra)\n",
    "    nmf_comp = nmf.components_\n",
    "\n",
    "    return pca_comp, ica_comp, nmf_comp\n",
    "\n",
    "n_components = 5\n",
    "decompositions = compute_PCA_ICA_NMF(n_components)\n"
   ]
  },
  {
   "cell_type": "code",
   "execution_count": null,
   "metadata": {},
   "outputs": [],
   "source": [
    "#----------------------------------------------------------------------\n",
    "# Plot the results\n",
    "fig = plt.figure(figsize=(10, 8))\n",
    "fig.subplots_adjust(left=0.05, right=0.95, wspace=0.05,\n",
    "                    bottom=0.1, top=0.95, hspace=0.05)\n",
    "\n",
    "titles = ['PCA components', 'ICA components', 'NMF components']\n",
    "\n",
    "for i, comp in enumerate(decompositions):\n",
    "    for j in range(n_components):\n",
    "        ax = fig.add_subplot(n_components, 3, 3 * j + 1 + i)\n",
    "\n",
    "        ax.yaxis.set_major_formatter(plt.NullFormatter())\n",
    "        ax.xaxis.set_major_locator(plt.MultipleLocator(1000))\n",
    "        if j < n_components - 1:\n",
    "            ax.xaxis.set_major_formatter(plt.NullFormatter())\n",
    "        else:\n",
    "            ax.xaxis.set_major_locator(\n",
    "                plt.FixedLocator(list(range(3000, 7999, 1000))))\n",
    "            ax.set_xlabel(r'wavelength ${\\rm (\\AA)}$')\n",
    "\n",
    "        ax.plot(wavelengths, comp[j], '-k', lw=1)\n",
    "\n",
    "        # plot zero line\n",
    "        xlim = [3000, 8000]\n",
    "        ax.plot(xlim, [0, 0], '-', c='gray', lw=1)\n",
    "\n",
    "        if j == 0:\n",
    "            ax.set_title(titles[i])\n",
    "\n",
    "        if titles[i].startswith('PCA') or titles[i].startswith('ICA'):\n",
    "            if j == 0:\n",
    "                label = 'mean'\n",
    "            else:\n",
    "                label = 'component %i' % j\n",
    "        else:\n",
    "            label = 'component %i' % (j + 1)\n",
    "\n",
    "        ax.text(0.03, 0.94, label, transform=ax.transAxes,\n",
    "                ha='left', va='top')\n",
    "\n",
    "        for l in ax.get_xticklines() + ax.get_yticklines():\n",
    "            l.set_markersize(2)\n",
    "\n",
    "        # adjust y limits\n",
    "        ylim = plt.ylim()\n",
    "        dy = 0.05 * (ylim[1] - ylim[0])\n",
    "\n",
    "        ax.set_ylim(ylim[0] - dy, ylim[1] + 4 * dy)\n",
    "        ax.set_xlim(xlim)\n",
    "\n"
   ]
  },
  {
   "cell_type": "code",
   "execution_count": null,
   "metadata": {},
   "outputs": [],
   "source": []
  },
  {
   "cell_type": "markdown",
   "metadata": {},
   "source": [
    "## Look at one more complicated example for LLE (locally linear embedding)"
   ]
  },
  {
   "cell_type": "code",
   "execution_count": null,
   "metadata": {},
   "outputs": [],
   "source": [
    "from sklearn import manifold, neighbors\n",
    "\n",
    "from astroML.datasets import sdss_corrected_spectra\n",
    "from astroML.datasets import fetch_sdss_corrected_spectra\n",
    "from astroML.plotting.tools import discretize_cmap\n",
    "from astroML.utils.decorators import pickle_results\n",
    "\n",
    "#------------------------------------------------------------\n",
    "# Set up color-map properties\n",
    "clim = (1.5, 6.5)\n",
    "cmap = discretize_cmap(plt.cm.jet, 5)\n",
    "cdict = ['unknown', 'star', 'absorption galaxy',\n",
    "         'galaxy', 'emission galaxy',\n",
    "         'narrow-line QSO', 'broad-line QSO']\n",
    "cticks = [2, 3, 4, 5, 6]\n",
    "formatter = plt.FuncFormatter(lambda t, *args: cdict[int(np.round(t))])\n",
    "\n",
    "#------------------------------------------------------------\n",
    "# Fetch the data; PCA coefficients have been pre-computed\n",
    "data = fetch_sdss_corrected_spectra()\n",
    "coeffs_PCA = data['coeffs']\n",
    "c_PCA = data['lineindex_cln']\n",
    "spec = sdss_corrected_spectra.reconstruct_spectra(data)\n",
    "color = data['lineindex_cln']\n"
   ]
  },
  {
   "cell_type": "code",
   "execution_count": null,
   "metadata": {},
   "outputs": [],
   "source": [
    "#------------------------------------------------------------\n",
    "# Compute the LLE projection; save the results\n",
    "@pickle_results(\"spec_LLE.pkl\")\n",
    "def compute_spec_LLE(n_neighbors=10, out_dim=3):\n",
    "    # Compute the LLE projection\n",
    "    LLE = manifold.LocallyLinearEmbedding(n_neighbors=n_neighbors, n_components=out_dim, \n",
    "                                          method='modified',eigen_solver='dense')\n",
    "    Y_LLE = LLE.fit_transform(spec)\n",
    "    print(\" - finished LLE projection\")\n",
    "\n",
    "    # remove outliers for the plot\n",
    "    BT = neighbors.BallTree(Y_LLE)\n",
    "    dist, ind = BT.query(Y_LLE, n_neighbors)\n",
    "    dist_to_n = dist[:, -1]\n",
    "    dist_to_n -= dist_to_n.mean()\n",
    "    std = np.std(dist_to_n)\n",
    "    flag = (dist_to_n > 0.25 * std)\n",
    "    print(\" - removing {0} outliers for plot\".format(flag.sum()))\n",
    "\n",
    "    return Y_LLE[~flag], color[~flag]\n",
    "\n",
    "coeffs_LLE, c_LLE = compute_spec_LLE(10, 3)\n"
   ]
  },
  {
   "cell_type": "code",
   "execution_count": null,
   "metadata": {},
   "outputs": [],
   "source": [
    "#----------------------------------------------------------------------\n",
    "# Plot the results:\n",
    "for (c, coeffs, xlim) in zip([c_PCA, c_LLE],\n",
    "                             [coeffs_PCA, coeffs_LLE],\n",
    "                             [(-1.2, 1.0), (-0.01, 0.014)]):\n",
    "    fig = plt.figure(figsize=(5, 3.75))\n",
    "    fig.subplots_adjust(hspace=0.05, wspace=0.05)\n",
    "\n",
    "    # axes for colorbar\n",
    "    cax = plt.axes([0.525, 0.525, 0.02, 0.35])\n",
    "\n",
    "    # Create scatter-plots\n",
    "    scatter_kwargs = dict(s=4, lw=0, edgecolors='none', c=c, cmap=cmap)\n",
    "\n",
    "    ax1 = plt.subplot(221)\n",
    "    im1 = ax1.scatter(coeffs[:, 0], coeffs[:, 1], **scatter_kwargs)\n",
    "    im1.set_clim(clim)\n",
    "    ax1.set_ylabel('$c_2$')\n",
    "\n",
    "    ax2 = plt.subplot(223)\n",
    "    im2 = ax2.scatter(coeffs[:, 0], coeffs[:, 2], **scatter_kwargs)\n",
    "    im2.set_clim(clim)\n",
    "    ax2.set_xlabel('$c_1$')\n",
    "    ax2.set_ylabel('$c_3$')\n",
    "\n",
    "    ax3 = plt.subplot(224)\n",
    "    im3 = ax3.scatter(coeffs[:, 1], coeffs[:, 2], **scatter_kwargs)\n",
    "    im3.set_clim(clim)\n",
    "    ax3.set_xlabel('$c_2$')\n",
    "\n",
    "    fig.colorbar(im3, ax=ax3, cax=cax,\n",
    "                 ticks=cticks,\n",
    "                 format=formatter)\n",
    "\n",
    "    ax1.xaxis.set_major_formatter(plt.NullFormatter())\n",
    "    ax3.yaxis.set_major_formatter(plt.NullFormatter())\n",
    "\n",
    "    ax1.set_xlim(xlim)\n",
    "    ax2.set_xlim(xlim)\n",
    "\n",
    "    for ax in (ax1, ax2, ax3):\n",
    "        ax.xaxis.set_major_locator(plt.MaxNLocator(5))\n",
    "        ax.yaxis.set_major_locator(plt.MaxNLocator(5))"
   ]
  },
  {
   "cell_type": "code",
   "execution_count": null,
   "metadata": {},
   "outputs": [],
   "source": []
  }
 ],
 "metadata": {
  "kernelspec": {
   "display_name": "astr340",
   "language": "python",
   "name": "astr340"
  },
  "language_info": {
   "codemirror_mode": {
    "name": "ipython",
    "version": 3
   },
   "file_extension": ".py",
   "mimetype": "text/x-python",
   "name": "python",
   "nbconvert_exporter": "python",
   "pygments_lexer": "ipython3",
   "version": "3.9.18"
  }
 },
 "nbformat": 4,
 "nbformat_minor": 4
}
